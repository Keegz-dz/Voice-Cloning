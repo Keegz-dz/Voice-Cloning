{
 "cells": [
  {
   "cell_type": "markdown",
   "metadata": {},
   "source": [
    "# ArcFace Speaker Encoder Visualization\n",
    "## Complete Guide to Loss Mechanics and Training Dynamics\n",
    "\n",
    "Visual explanations directly tied to your code components: \n",
    "- `ArcMarginProduct` \n",
    "- `SpeechEncoderV3`\n",
    "- `loss()` computation"
   ]
  },
  {
   "cell_type": "markdown",
   "metadata": {},
   "source": [
    "## 1. Angular Margin Mechanics (Code-Driven)"
   ]
  },
  {
   "cell_type": "code",
   "execution_count": null,
   "metadata": {},
   "outputs": [],
   "source": [
    "import torch\n",
    "import numpy as np\n",
    "import matplotlib.pyplot as plt\n",
    "from ipywidgets import interact\n",
    "%matplotlib inline\n",
    "\n",
    "def visualize_margin_decision(theta, m=0.5, s=30):\n",
    "    \"\"\"Interactive visualization of your ArcMarginProduct math\"\"\"\n",
    "    # Your actual code calculations\n",
    "    cosine = torch.tensor([np.cos(theta)])\n",
    "    sine = torch.sqrt((1 - cosine**2).clamp(0,1))\n",
    "    phi = cosine * np.cos(m) - sine * np.sin(m)\n",
    "    \n",
    "    # Plotting\n",
    "    plt.figure(figsize=(10,5))\n",
    "    plt.subplot(121)\n",
    "    plt.title(f'Angle Modification (θ vs θ+{m:.1f})')\n",
    "    plt.polar([0, theta], [0, 1], 'b', label='Original θ')\n",
    "    plt.polar([0, theta+m], [0, 1], 'r--', label=f'θ + {m:.1f}')\n",
    "    plt.legend()\n",
    "    \n",
    "    plt.subplot(122)\n",
    "    plt.title('Logit Scaling Effect (s=30)')\n",
    "    x = np.linspace(0, np.pi, 100)\n",
    "    plt.plot(x, np.cos(x), label='Original cosθ')\n",
    "    plt.plot(x, s*np.cos(x), label='Scaled cosθ')\n",
    "    plt.xlabel('Angle (radians)')\n",
    "    plt.ylabel('Logit Value')\n",
    "    plt.legend()\n",
    "    plt.tight_layout()\n",
    "    plt.show()\n",
    "\n",
    "interact(visualize_margin_decision, \n",
    "         theta=(0, 2*np.pi, 0.1), \n",
    "         m=(0, 1.0, 0.1),\n",
    "         s=(1, 64, 1))"
   ]
  },
  {
   "cell_type": "markdown",
   "metadata": {},
   "source": [
    "## 2. Speaker Embedding Space Evolution"
   ]
  },
  {
   "cell_type": "code",
   "execution_count": null,
   "metadata": {},
   "outputs": [],
   "source": [
    "def plot_embedding_evolution():\n",
    "    # Simulate training stages using your model dimensions\n",
    "    stages = {\n",
    "        'Init': {'m': 0, 's': 1, 'noise': 0.8},\n",
    "        'Mid': {'m': 0.3, 's': 15, 'noise': 0.4},\n",
    "        'Final': {'m': 0.5, 's': 30, 'noise': 0.1}\n",
    "    }\n",
    "    \n",
    "    plt.figure(figsize=(15,5))\n",
    "    for i, (stage, params) in enumerate(stages.items()):\n",
    "        plt.subplot(1,3,i+1)\n",
    "        \n",
    "        # Generate synthetic embeddings matching your code's structure\n",
    "        angles = np.linspace(0, 2*np.pi, 3, endpoint=False)  # 3 speakers\n",
    "        embeds = []\n",
    "        for a in angles:\n",
    "            # Simulate utterances_per_speaker=5\n",
    "            points = a + np.random.normal(0, params['noise'], 5)\n",
    "            embeds.extend([(np.cos(p), np.sin(p)) for p in points])\n",
    "        \n",
    "        # Apply your margin logic\n",
    "        embeds = np.array(embeds)\n",
    "        embeds *= params['s']  # Scale factor from ArcMarginProduct\n",
    "        \n",
    "        # Plot\n",
    "        plt.scatter(embeds[:,0], embeds[:,1], alpha=0.5)\n",
    "        plt.title(f'{stage} Training\\n(m={params[\"m\"]}, s={params[\"s\"]})')\n",
    "        plt.grid(True)\n",
    "    \n",
    "    plt.tight_layout()\n",
    "    plt.show()"
   ]
  },
  {
   "cell_type": "markdown",
   "metadata": {},
   "source": [
    "## 3. Gradient Flow Analysis"
   ]
  },
  {
   "cell_type": "code",
   "execution_count": null,
   "metadata": {},
   "outputs": [],
   "source": [
    "def plot_gradient_behavior():\n",
    "    # Simulate your gradient clipping logic\n",
    "    grads = {\n",
    "        'Before Clipping': np.random.randn(1000)*10,\n",
    "        'After Clipping': np.clip(np.random.randn(1000)*10, -3, 3)\n",
    "    }\n",
    "    \n",
    "    plt.figure(figsize=(10,5))\n",
    "    for i, (title, g) in enumerate(grads.items()):\n",
    "        plt.subplot(1,2,i+1)\n",
    "        plt.hist(g, bins=50, alpha=0.7)\n",
    "        plt.title(f'{title}\\n({self.do_gradient_ops.__name__})')\n",
    "        plt.xlabel('Gradient Magnitude')\n",
    "        plt.ylabel('Count')\n",
    "    plt.tight_layout()\n",
    "    plt.show()"
   ]
  },
  {
   "cell_type": "markdown",
   "metadata": {},
   "source": [
    "## 4. Live Loss Landscape (3D)"
   ]
  },
  {
   "cell_type": "code",
   "execution_count": null,
   "metadata": {},
   "outputs": [],
   "source": [
    "from mpl_toolkits.mplot3d import Axes3D\n",
    "\n",
    "def plot_3d_loss_landscape():\n",
    "    # Create meshgrid matching your model's embedding space\n",
    "    x = np.linspace(-1, 1, 50)\n",
    "    y = np.linspace(-1, 1, 50)\n",
    "    X, Y = np.meshgrid(x, y)\n",
    "    \n",
    "    # Simulate ArcFace loss calculations\n",
    "    Z = np.zeros_like(X)\n",
    "    for i in range(X.shape[0]):\n",
    "        for j in range(X.shape[1]):\n",
    "            emb = torch.tensor([[X[i,j], Y[i,j]]], dtype=torch.float)\n",
    "            logits = self.arc_margin(emb, torch.LongTensor([0]))\n",
    "            Z[i,j] = self.loss_fn(logits, torch.LongTensor([0]))\n",
    "    \n",
    "    # Plot\n",
    "    fig = plt.figure(figsize=(12,6))\n",
    "    ax = fig.add_subplot(111, projection='3d')\n",
    "    ax.plot_surface(X, Y, Z, cmap='viridis', alpha=0.8)\n",
    "    ax.set_title('ArcFace Loss Landscape\\n(Embedding Space → Loss Value)')\n",
    "    ax.set_xlabel('Embedding Dim 1')\n",
    "    ax.set_ylabel('Embedding Dim 2')\n",
    "    ax.set_zlabel('Loss')\n",
    "    plt.show()"
   ]
  },
  {
   "cell_type": "markdown",
   "metadata": {},
   "source": [
    "## 5. EER Evolution During Training"
   ]
  },
  {
   "cell_type": "code",
   "execution_count": null,
   "metadata": {},
   "outputs": [],
   "source": [
    "def plot_eer_progression():\n",
    "    # Simulate training epochs\n",
    " epochs = np.arange(1, 21)\n",
    " eers = np.linspace(0.4, 0.05, 20)\n",
    " \n",
    " plt.figure(figsize=(10,5))\n",
    " plt.plot(epochs, eers, 'b-o')\n",
    " plt.title('Equal Error Rate Reduction\\n(loss() method computation)')\n",
    " plt.xlabel('Training Epochs')\n",
    " plt.ylabel('EER')\n",
    " plt.grid(True)\n",
    " plt.show()"
   ]
  },
  {
   "cell_type": "markdown",
   "metadata": {},
   "source": [
    "## 6. Real Embedding Projection (t-SNE)"
   ]
  },
  {
   "cell_type": "code",
   "execution_count": null,
   "metadata": {},
   "outputs": [],
   "source": [
    "from sklearn.manifold import TSNE\n",
    "\n",
    "def plot_real_embeddings(embeds, labels):\n",
    "    \"\"\"Pass actual embeddings from forward()\"\"\"\n",
    "    tsne = TSNE(n_components=2)\n",
    "    proj = tsne.fit_transform(embeds)\n",
    "    \n",
    "    plt.figure(figsize=(10,8))\n",
    "    plt.scatter(proj[:,0], proj[:,1], c=labels, cmap='tab10', alpha=0.6)\n",
    "    plt.title('t-SNE of Speaker Embeddings\\n(forward() output)')\n",
    "    plt.colorbar(label='Speaker ID')\n",
    "    plt.show()"
   ]
  },
  {
   "cell_type": "markdown",
   "metadata": {},
   "source": [
    "## 7. Component-Wise Code Mapping"
   ]
  },
  {
   "cell_type": "code",
   "execution_count": null,
   "metadata": {},
   "outputs": [],
   "source": [
    "def plot_code_flow():\n",
    "    components = {\n",
    "        'Input': ['utterances'],\n",
    "        'Conv Frontend': ['conv1', 'gn1', 'conv2', 'gn2'],\n",
    "        'Transformer': ['transformer'],\n",
    "        'Embedding': ['linear', 'normalize'],\n",
    "        'ArcFace': ['arc_margin', 'loss_fn'],\n",
    "        'Output': ['loss', 'eer']\n",
    "    }\n",
    "    \n",
    "    plt.figure(figsize=(12,8))\n",
    "    pos = np.linspace(0, 1, len(components))\n",
    "    for i, (name, parts) in enumerate(components.items()):\n",
    "        plt.text(pos[i], 0.5, name, ha='center', fontsize=12,\n",
    "                bbox=dict(facecolor='white', alpha=0.8))\n",
    "        plt.text(pos[i], 0.3, '\\n'.join(parts), ha='center', fontsize=10)\n",
    "    \n",
    "    plt.title('Code Component Flow\\n(SpeechEncoderV3 Architecture)')\n",
    "    plt.axis('off')\n",
    "    plt.show()"
   ]
  }
 ],
 "metadata": {
  "kernelspec": {
   "display_name": "Python 3",
   "language": "python",
   "name": "python3"
  }
 },
 "nbformat": 4,
 "nbformat_minor": 4
}