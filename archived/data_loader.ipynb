{
 "cells": [
  {
   "cell_type": "code",
   "execution_count": null,
   "metadata": {},
   "outputs": [],
   "source": [
    "from speech_encoder_v2 import SpeechEncoderV2\n",
    "from params import *\n",
    "from pathlib import Path\n",
    "import torch\n",
    "from tqdm import tqdm\n",
    "import os\n",
    "from data_preprocessing import *\n",
    "from data_scripts import *\n",
    "\n",
    "params = {\n",
    "    \"run_id\": \"speech_encoder_1\",\n",
    "    \"clean_data_root\": \"datasets/LibriSpeech/train-clean-100\",\n",
    "    \"umap_every\": 500,\n",
    "    \"save_every\": 500,\n",
    "    \"backup_every\": 5000,\n",
    "    \"vis_every\": 100,\n",
    "    \"force_restart\": False,\n",
    "    \"models_dir\": Path(\"models\"),\n",
    "}\n",
    "\n",
    "# Device setup\n",
    "device = torch.device(\"cuda\" if torch.cuda.is_available() else \"cpu\")\n",
    "loss_device = torch.device(\"cpu\")\n",
    "\n",
    "def sync(device: torch.device):\n",
    "    if device.type == \"cuda\":\n",
    "        torch.cuda.synchronize(device)"
   ]
  },
  {
   "cell_type": "markdown",
   "metadata": {},
   "source": [
    "### Data Preparation & Model Initialization"
   ]
  },
  {
   "cell_type": "code",
   "execution_count": null,
   "metadata": {},
   "outputs": [],
   "source": [
    "# Preprocess data using your pipeline\n",
    "preprocess(\n",
    "    raw_data_root=params[\"clean_data_root\"],\n",
    "    processed_data_root=\"data/processed_data\",\n",
    "    skip_existing=not params[\"force_restart\"]\n",
    ")\n",
    "\n",
    "# Load data using your interface\n",
    "dataset, loader = load_data(\n",
    "    processed_root=\"data/processed_data\",\n",
    "    speakers_per_batch=speakers_per_batch,\n",
    "    utterances_per_speaker=utterances_per_speaker,\n",
    "    num_workers=4\n",
    ")"
   ]
  },
  {
   "cell_type": "markdown",
   "metadata": {},
   "source": [
    "### Training Execution"
   ]
  },
  {
   "cell_type": "code",
   "execution_count": null,
   "metadata": {},
   "outputs": [],
   "source": [
    "init_step = 1\n",
    "pbar = tqdm(enumerate(loader, init_step), desc=\"Training\")\n",
    "\n",
    "for step, speaker_batch in pbar:\n",
    "    # Forward pass\n",
    "    inputs = torch.from_numpy(speaker_batch.data).float().to(device)\n",
    "    sync(device)\n",
    "    embeds = model(inputs)\n",
    "    sync(device)\n",
    "    \n",
    "    # Loss calculation\n",
    "    embeds_loss = embeds.view((speakers_per_batch, utterances_per_speaker, -1)).to(loss_device)\n",
    "    loss, eer = model.loss(embeds_loss)\n",
    "    sync(loss_device)\n",
    "\n",
    "    # Backward pass\n",
    "    model.zero_grad()\n",
    "    loss.backward()\n",
    "    model.do_gradient_ops()\n",
    "    optimizer.step()\n",
    "\n",
    "    # Progress updates\n",
    "    pbar.set_postfix(loss=loss.item(), eer=eer)\n",
    "\n",
    "    # Model checkpointing\n",
    "    if step % params['save_every'] == 0:\n",
    "        torch.save({\n",
    "            \"step\": step + 1,\n",
    "            \"model_state\": model.state_dict(),\n",
    "            \"optimizer_state\": optimizer.state_dict(),\n",
    "        }, state_fpath)\n",
    "\n",
    "    if step % params['backup_every'] == 0:\n",
    "        backup_fpath = model_dir / f\"encoder_{step:06d}.bak\"\n",
    "        torch.save({\n",
    "            \"step\": step + 1,\n",
    "            \"model_state\": model.state_dict(),\n",
    "            \"optimizer_state\": optimizer.state_dict(),\n",
    "        }, backup_fpath)"
   ]
  }
 ],
 "metadata": {
  "kernelspec": {
   "display_name": "gpu_environment",
   "language": "python",
   "name": "python3"
  },
  "language_info": {
   "codemirror_mode": {
    "name": "ipython",
    "version": 3
   },
   "file_extension": ".py",
   "mimetype": "text/x-python",
   "name": "python",
   "nbconvert_exporter": "python",
   "pygments_lexer": "ipython3",
   "version": "3.10.16"
  }
 },
 "nbformat": 4,
 "nbformat_minor": 2
}
