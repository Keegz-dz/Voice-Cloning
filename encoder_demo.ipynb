{
 "cells": [
  {
   "cell_type": "code",
   "execution_count": 2,
   "metadata": {},
   "outputs": [],
   "source": [
    "from speech_encoder_v2 import SpeechEncoderV2\n",
    "from data_preprocessing import *\n",
    "import torch\n",
    "import torchaudio\n",
    "from Embed import Embed"
   ]
  },
  {
   "cell_type": "markdown",
   "metadata": {},
   "source": [
    "## Setting the inputs and preparing the data"
   ]
  },
  {
   "cell_type": "code",
   "execution_count": 5,
   "metadata": {},
   "outputs": [
    {
     "data": {
      "text/plain": [
       "[WindowsPath('D:/CODING/Voice Encoder/Resemblyzer/audio_data/librispeech_test-other/1688/1688-142285-0000.flac'),\n",
       " WindowsPath('D:/CODING/Voice Encoder/Resemblyzer/audio_data/librispeech_test-other/1688/1688-142285-0001.flac'),\n",
       " WindowsPath('D:/CODING/Voice Encoder/Resemblyzer/audio_data/librispeech_test-other/1688/1688-142285-0002.flac'),\n",
       " WindowsPath('D:/CODING/Voice Encoder/Resemblyzer/audio_data/librispeech_test-other/1688/1688-142285-0003.flac'),\n",
       " WindowsPath('D:/CODING/Voice Encoder/Resemblyzer/audio_data/librispeech_test-other/1688/1688-142285-0004.flac'),\n",
       " WindowsPath('D:/CODING/Voice Encoder/Resemblyzer/audio_data/librispeech_test-other/1688/1688-142285-0005.flac'),\n",
       " WindowsPath('D:/CODING/Voice Encoder/Resemblyzer/audio_data/librispeech_test-other/1688/1688-142285-0006.flac'),\n",
       " WindowsPath('D:/CODING/Voice Encoder/Resemblyzer/audio_data/librispeech_test-other/1688/1688-142285-0007.flac'),\n",
       " WindowsPath('D:/CODING/Voice Encoder/Resemblyzer/audio_data/librispeech_test-other/1688/1688-142285-0008.flac'),\n",
       " WindowsPath('D:/CODING/Voice Encoder/Resemblyzer/audio_data/librispeech_test-other/1688/1688-142285-0009.flac'),\n",
       " WindowsPath('D:/CODING/Voice Encoder/Resemblyzer/audio_data/librispeech_test-other/1998/1998-15444-0000.flac'),\n",
       " WindowsPath('D:/CODING/Voice Encoder/Resemblyzer/audio_data/librispeech_test-other/1998/1998-15444-0001.flac'),\n",
       " WindowsPath('D:/CODING/Voice Encoder/Resemblyzer/audio_data/librispeech_test-other/1998/1998-15444-0002.flac'),\n",
       " WindowsPath('D:/CODING/Voice Encoder/Resemblyzer/audio_data/librispeech_test-other/1998/1998-15444-0003.flac'),\n",
       " WindowsPath('D:/CODING/Voice Encoder/Resemblyzer/audio_data/librispeech_test-other/1998/1998-15444-0004.flac'),\n",
       " WindowsPath('D:/CODING/Voice Encoder/Resemblyzer/audio_data/librispeech_test-other/1998/1998-15444-0005.flac'),\n",
       " WindowsPath('D:/CODING/Voice Encoder/Resemblyzer/audio_data/librispeech_test-other/1998/1998-15444-0006.flac'),\n",
       " WindowsPath('D:/CODING/Voice Encoder/Resemblyzer/audio_data/librispeech_test-other/1998/1998-15444-0007.flac'),\n",
       " WindowsPath('D:/CODING/Voice Encoder/Resemblyzer/audio_data/librispeech_test-other/1998/1998-15444-0008.flac'),\n",
       " WindowsPath('D:/CODING/Voice Encoder/Resemblyzer/audio_data/librispeech_test-other/1998/1998-15444-0009.flac'),\n",
       " WindowsPath('D:/CODING/Voice Encoder/Resemblyzer/audio_data/librispeech_test-other/2033/2033-164914-0000.flac'),\n",
       " WindowsPath('D:/CODING/Voice Encoder/Resemblyzer/audio_data/librispeech_test-other/2033/2033-164914-0001.flac'),\n",
       " WindowsPath('D:/CODING/Voice Encoder/Resemblyzer/audio_data/librispeech_test-other/2033/2033-164914-0002.flac'),\n",
       " WindowsPath('D:/CODING/Voice Encoder/Resemblyzer/audio_data/librispeech_test-other/2033/2033-164914-0003.flac'),\n",
       " WindowsPath('D:/CODING/Voice Encoder/Resemblyzer/audio_data/librispeech_test-other/2033/2033-164914-0004.flac'),\n",
       " WindowsPath('D:/CODING/Voice Encoder/Resemblyzer/audio_data/librispeech_test-other/2033/2033-164914-0005.flac'),\n",
       " WindowsPath('D:/CODING/Voice Encoder/Resemblyzer/audio_data/librispeech_test-other/2033/2033-164914-0006.flac'),\n",
       " WindowsPath('D:/CODING/Voice Encoder/Resemblyzer/audio_data/librispeech_test-other/2033/2033-164914-0007.flac'),\n",
       " WindowsPath('D:/CODING/Voice Encoder/Resemblyzer/audio_data/librispeech_test-other/2033/2033-164914-0008.flac'),\n",
       " WindowsPath('D:/CODING/Voice Encoder/Resemblyzer/audio_data/librispeech_test-other/2033/2033-164914-0009.flac'),\n",
       " WindowsPath('D:/CODING/Voice Encoder/Resemblyzer/audio_data/librispeech_test-other/2414/2414-128291-0000.flac'),\n",
       " WindowsPath('D:/CODING/Voice Encoder/Resemblyzer/audio_data/librispeech_test-other/2414/2414-128291-0001.flac'),\n",
       " WindowsPath('D:/CODING/Voice Encoder/Resemblyzer/audio_data/librispeech_test-other/2414/2414-128291-0002.flac'),\n",
       " WindowsPath('D:/CODING/Voice Encoder/Resemblyzer/audio_data/librispeech_test-other/2414/2414-128291-0003.flac'),\n",
       " WindowsPath('D:/CODING/Voice Encoder/Resemblyzer/audio_data/librispeech_test-other/2414/2414-128291-0004.flac'),\n",
       " WindowsPath('D:/CODING/Voice Encoder/Resemblyzer/audio_data/librispeech_test-other/2414/2414-128291-0005.flac'),\n",
       " WindowsPath('D:/CODING/Voice Encoder/Resemblyzer/audio_data/librispeech_test-other/2414/2414-128291-0006.flac'),\n",
       " WindowsPath('D:/CODING/Voice Encoder/Resemblyzer/audio_data/librispeech_test-other/2414/2414-128291-0007.flac'),\n",
       " WindowsPath('D:/CODING/Voice Encoder/Resemblyzer/audio_data/librispeech_test-other/2414/2414-128291-0008.flac'),\n",
       " WindowsPath('D:/CODING/Voice Encoder/Resemblyzer/audio_data/librispeech_test-other/2414/2414-128291-0009.flac'),\n",
       " WindowsPath('D:/CODING/Voice Encoder/Resemblyzer/audio_data/librispeech_test-other/2609/2609-156975-0000.flac'),\n",
       " WindowsPath('D:/CODING/Voice Encoder/Resemblyzer/audio_data/librispeech_test-other/2609/2609-156975-0001.flac'),\n",
       " WindowsPath('D:/CODING/Voice Encoder/Resemblyzer/audio_data/librispeech_test-other/2609/2609-156975-0002.flac'),\n",
       " WindowsPath('D:/CODING/Voice Encoder/Resemblyzer/audio_data/librispeech_test-other/2609/2609-156975-0003.flac'),\n",
       " WindowsPath('D:/CODING/Voice Encoder/Resemblyzer/audio_data/librispeech_test-other/2609/2609-156975-0004.flac'),\n",
       " WindowsPath('D:/CODING/Voice Encoder/Resemblyzer/audio_data/librispeech_test-other/2609/2609-156975-0005.flac'),\n",
       " WindowsPath('D:/CODING/Voice Encoder/Resemblyzer/audio_data/librispeech_test-other/2609/2609-156975-0006.flac'),\n",
       " WindowsPath('D:/CODING/Voice Encoder/Resemblyzer/audio_data/librispeech_test-other/2609/2609-156975-0007.flac'),\n",
       " WindowsPath('D:/CODING/Voice Encoder/Resemblyzer/audio_data/librispeech_test-other/2609/2609-156975-0008.flac'),\n",
       " WindowsPath('D:/CODING/Voice Encoder/Resemblyzer/audio_data/librispeech_test-other/2609/2609-156975-0009.flac'),\n",
       " WindowsPath('D:/CODING/Voice Encoder/Resemblyzer/audio_data/librispeech_test-other/3005/3005-163389-0000.flac'),\n",
       " WindowsPath('D:/CODING/Voice Encoder/Resemblyzer/audio_data/librispeech_test-other/3005/3005-163389-0001.flac'),\n",
       " WindowsPath('D:/CODING/Voice Encoder/Resemblyzer/audio_data/librispeech_test-other/3005/3005-163389-0002.flac'),\n",
       " WindowsPath('D:/CODING/Voice Encoder/Resemblyzer/audio_data/librispeech_test-other/3005/3005-163389-0003.flac'),\n",
       " WindowsPath('D:/CODING/Voice Encoder/Resemblyzer/audio_data/librispeech_test-other/3005/3005-163389-0004.flac'),\n",
       " WindowsPath('D:/CODING/Voice Encoder/Resemblyzer/audio_data/librispeech_test-other/3005/3005-163389-0005.flac'),\n",
       " WindowsPath('D:/CODING/Voice Encoder/Resemblyzer/audio_data/librispeech_test-other/3005/3005-163389-0006.flac'),\n",
       " WindowsPath('D:/CODING/Voice Encoder/Resemblyzer/audio_data/librispeech_test-other/3005/3005-163389-0007.flac'),\n",
       " WindowsPath('D:/CODING/Voice Encoder/Resemblyzer/audio_data/librispeech_test-other/3005/3005-163389-0008.flac'),\n",
       " WindowsPath('D:/CODING/Voice Encoder/Resemblyzer/audio_data/librispeech_test-other/3005/3005-163389-0009.flac'),\n",
       " WindowsPath('D:/CODING/Voice Encoder/Resemblyzer/audio_data/librispeech_test-other/3080/3080-5032-0000.flac'),\n",
       " WindowsPath('D:/CODING/Voice Encoder/Resemblyzer/audio_data/librispeech_test-other/3080/3080-5032-0001.flac'),\n",
       " WindowsPath('D:/CODING/Voice Encoder/Resemblyzer/audio_data/librispeech_test-other/3080/3080-5032-0002.flac'),\n",
       " WindowsPath('D:/CODING/Voice Encoder/Resemblyzer/audio_data/librispeech_test-other/3080/3080-5032-0003.flac'),\n",
       " WindowsPath('D:/CODING/Voice Encoder/Resemblyzer/audio_data/librispeech_test-other/3080/3080-5032-0004.flac'),\n",
       " WindowsPath('D:/CODING/Voice Encoder/Resemblyzer/audio_data/librispeech_test-other/3080/3080-5032-0005.flac'),\n",
       " WindowsPath('D:/CODING/Voice Encoder/Resemblyzer/audio_data/librispeech_test-other/3080/3080-5032-0006.flac'),\n",
       " WindowsPath('D:/CODING/Voice Encoder/Resemblyzer/audio_data/librispeech_test-other/3080/3080-5032-0007.flac'),\n",
       " WindowsPath('D:/CODING/Voice Encoder/Resemblyzer/audio_data/librispeech_test-other/3080/3080-5032-0008.flac'),\n",
       " WindowsPath('D:/CODING/Voice Encoder/Resemblyzer/audio_data/librispeech_test-other/3080/3080-5032-0009.flac'),\n",
       " WindowsPath('D:/CODING/Voice Encoder/Resemblyzer/audio_data/librispeech_test-other/3331/3331-159605-0000.flac'),\n",
       " WindowsPath('D:/CODING/Voice Encoder/Resemblyzer/audio_data/librispeech_test-other/3331/3331-159605-0001.flac'),\n",
       " WindowsPath('D:/CODING/Voice Encoder/Resemblyzer/audio_data/librispeech_test-other/3331/3331-159605-0002.flac'),\n",
       " WindowsPath('D:/CODING/Voice Encoder/Resemblyzer/audio_data/librispeech_test-other/3331/3331-159605-0003.flac'),\n",
       " WindowsPath('D:/CODING/Voice Encoder/Resemblyzer/audio_data/librispeech_test-other/3331/3331-159605-0004.flac'),\n",
       " WindowsPath('D:/CODING/Voice Encoder/Resemblyzer/audio_data/librispeech_test-other/3331/3331-159605-0005.flac'),\n",
       " WindowsPath('D:/CODING/Voice Encoder/Resemblyzer/audio_data/librispeech_test-other/3331/3331-159605-0006.flac'),\n",
       " WindowsPath('D:/CODING/Voice Encoder/Resemblyzer/audio_data/librispeech_test-other/3331/3331-159605-0007.flac'),\n",
       " WindowsPath('D:/CODING/Voice Encoder/Resemblyzer/audio_data/librispeech_test-other/3331/3331-159605-0008.flac'),\n",
       " WindowsPath('D:/CODING/Voice Encoder/Resemblyzer/audio_data/librispeech_test-other/3331/3331-159605-0009.flac'),\n",
       " WindowsPath('D:/CODING/Voice Encoder/Resemblyzer/audio_data/librispeech_test-other/367/367-130732-0000.flac'),\n",
       " WindowsPath('D:/CODING/Voice Encoder/Resemblyzer/audio_data/librispeech_test-other/367/367-130732-0001.flac'),\n",
       " WindowsPath('D:/CODING/Voice Encoder/Resemblyzer/audio_data/librispeech_test-other/367/367-130732-0002.flac'),\n",
       " WindowsPath('D:/CODING/Voice Encoder/Resemblyzer/audio_data/librispeech_test-other/367/367-130732-0003.flac'),\n",
       " WindowsPath('D:/CODING/Voice Encoder/Resemblyzer/audio_data/librispeech_test-other/367/367-130732-0004.flac'),\n",
       " WindowsPath('D:/CODING/Voice Encoder/Resemblyzer/audio_data/librispeech_test-other/367/367-130732-0005.flac'),\n",
       " WindowsPath('D:/CODING/Voice Encoder/Resemblyzer/audio_data/librispeech_test-other/367/367-130732-0006.flac'),\n",
       " WindowsPath('D:/CODING/Voice Encoder/Resemblyzer/audio_data/librispeech_test-other/367/367-130732-0007.flac'),\n",
       " WindowsPath('D:/CODING/Voice Encoder/Resemblyzer/audio_data/librispeech_test-other/367/367-130732-0008.flac'),\n",
       " WindowsPath('D:/CODING/Voice Encoder/Resemblyzer/audio_data/librispeech_test-other/367/367-130732-0009.flac'),\n",
       " WindowsPath('D:/CODING/Voice Encoder/Resemblyzer/audio_data/librispeech_test-other/533/533-1066-0000.flac'),\n",
       " WindowsPath('D:/CODING/Voice Encoder/Resemblyzer/audio_data/librispeech_test-other/533/533-1066-0001.flac'),\n",
       " WindowsPath('D:/CODING/Voice Encoder/Resemblyzer/audio_data/librispeech_test-other/533/533-1066-0002.flac'),\n",
       " WindowsPath('D:/CODING/Voice Encoder/Resemblyzer/audio_data/librispeech_test-other/533/533-1066-0003.flac'),\n",
       " WindowsPath('D:/CODING/Voice Encoder/Resemblyzer/audio_data/librispeech_test-other/533/533-1066-0004.flac'),\n",
       " WindowsPath('D:/CODING/Voice Encoder/Resemblyzer/audio_data/librispeech_test-other/533/533-1066-0005.flac'),\n",
       " WindowsPath('D:/CODING/Voice Encoder/Resemblyzer/audio_data/librispeech_test-other/533/533-1066-0006.flac'),\n",
       " WindowsPath('D:/CODING/Voice Encoder/Resemblyzer/audio_data/librispeech_test-other/533/533-1066-0007.flac'),\n",
       " WindowsPath('D:/CODING/Voice Encoder/Resemblyzer/audio_data/librispeech_test-other/533/533-1066-0008.flac'),\n",
       " WindowsPath('D:/CODING/Voice Encoder/Resemblyzer/audio_data/librispeech_test-other/533/533-1066-0009.flac')]"
      ]
     },
     "execution_count": 5,
     "metadata": {},
     "output_type": "execute_result"
    }
   ],
   "source": [
    "from pathlib import Path\n",
    "wav_fpaths = list(Path(\"D:\\CODING\\Voice Encoder\\Resemblyzer/audio_data\\librispeech_test-other\").glob(\"**/*.flac\"))\n",
    "wav_fpaths"
   ]
  },
  {
   "cell_type": "code",
   "execution_count": 6,
   "metadata": {},
   "outputs": [
    {
     "name": "stderr",
     "output_type": "stream",
     "text": [
      "Preprocessing wavs: 100%|██████████| 100/100 [00:04<00:00, 24.38wavs/s]\n"
     ]
    }
   ],
   "source": [
    "from itertools import groupby\n",
    "from tqdm import tqdm\n",
    "sys.path.append(\"temp\")\n",
    "from audio import *\n",
    "\n",
    "speaker_wavs = {speaker: list(map(preprocess_wav, wav_fpaths)) for speaker, wav_fpaths in\n",
    "                groupby(tqdm(wav_fpaths, \"Preprocessing wavs\", len(wav_fpaths), unit=\"wavs\"), \n",
    "                        lambda wav_fpath: wav_fpath.parent.stem)}"
   ]
  },
  {
   "cell_type": "code",
   "execution_count": 9,
   "metadata": {},
   "outputs": [
    {
     "data": {
      "text/plain": [
       "SpeechEncoderV2(\n",
       "  (transformer): TransformerEncoder(\n",
       "    (layers): ModuleList(\n",
       "      (0-2): 3 x TransformerEncoderLayer(\n",
       "        (self_attn): MultiheadAttention(\n",
       "          (out_proj): NonDynamicallyQuantizableLinear(in_features=40, out_features=40, bias=True)\n",
       "        )\n",
       "        (linear1): Linear(in_features=40, out_features=2048, bias=True)\n",
       "        (dropout): Dropout(p=0.1, inplace=False)\n",
       "        (linear2): Linear(in_features=2048, out_features=40, bias=True)\n",
       "        (norm1): LayerNorm((40,), eps=1e-05, elementwise_affine=True)\n",
       "        (norm2): LayerNorm((40,), eps=1e-05, elementwise_affine=True)\n",
       "        (dropout1): Dropout(p=0.1, inplace=False)\n",
       "        (dropout2): Dropout(p=0.1, inplace=False)\n",
       "      )\n",
       "    )\n",
       "    (norm): LayerNorm((40,), eps=1e-05, elementwise_affine=True)\n",
       "  )\n",
       "  (linear): Linear(in_features=40, out_features=256, bias=True)\n",
       "  (relu): ReLU()\n",
       "  (loss_fn): CrossEntropyLoss()\n",
       ")"
      ]
     },
     "execution_count": 9,
     "metadata": {},
     "output_type": "execute_result"
    }
   ],
   "source": [
    "device = torch.device(\"cuda\" if torch.cuda.is_available() else \"cpu\")\n",
    "encoder = SpeechEncoderV2(device,device)\n",
    "checkpoints = torch.load(\"models\\speech_encoder_transformer\\encoder(0.096).pt\")\n",
    "encoder.load_state_dict(checkpoints['model_state'])\n",
    "encoder.eval()"
   ]
  },
  {
   "cell_type": "code",
   "execution_count": 10,
   "metadata": {},
   "outputs": [],
   "source": [
    "embedder = Embed(encoder)"
   ]
  },
  {
   "cell_type": "code",
   "execution_count": 13,
   "metadata": {},
   "outputs": [],
   "source": [
    "embeds_a = np.array([embedder.embed_utterance(wavs[0]) for wavs in speaker_wavs.values()])\n",
    "embeds_b = np.array([embedder.embed_utterance(wavs[1]) for wavs in speaker_wavs.values()])"
   ]
  },
  {
   "cell_type": "code",
   "execution_count": null,
   "metadata": {},
   "outputs": [],
   "source": [
    "from visualisations import *\n",
    "\n",
    "utt_sim_matrix = np.inner(embeds_a, embeds_b)\n",
    "# Long, detailed version:\n",
    "utt_sim_matrix2 = np.zeros((len(embeds_a), len(embeds_b)))\n",
    "for i in range(len(embeds_a)):\n",
    "    for j in range(len(embeds_b)):\n",
    "        # The @ notation is exactly equivalent to np.dot(embeds_a[i], embeds_b[i])\n",
    "        utt_sim_matrix2[i, j] = embeds_a[i] @ embeds_b[j]\n",
    "assert np.allclose(utt_sim_matrix, utt_sim_matrix2)\n",
    "\n",
    "\n",
    "## Similarity between two speaker embeddings\n",
    "# Divide the utterances of each speaker in groups of identical size and embed each group as a\n",
    "# speaker embedding\n",
    "spk_embeds_a = np.array([embedder.embed_speaker(wavs[:len(wavs) // 2]) \\\n",
    "                         for wavs in speaker_wavs.values()])\n",
    "spk_embeds_b = np.array([embedder.embed_speaker(wavs[len(wavs) // 2:]) \\\n",
    "                         for wavs in speaker_wavs.values()])\n",
    "spk_sim_matrix = np.inner(spk_embeds_a, spk_embeds_b)\n",
    "\n",
    "\n",
    "## Draw the plots\n",
    "fix, axs = plt.subplots(2, 2, figsize=(8, 10))\n",
    "labels_a = [\"%s-A\" % i for i in speaker_wavs.keys()]\n",
    "labels_b = [\"%s-B\" % i for i in speaker_wavs.keys()]\n",
    "mask = np.eye(len(utt_sim_matrix), dtype=bool)\n",
    "plot_similarity_matrix(utt_sim_matrix, labels_a, labels_b, axs[0, 0],\n",
    "                       \"Cross-similarity between utterances\\n(speaker_id-utterance_group)\")\n",
    "plot_histograms((utt_sim_matrix[mask], utt_sim_matrix[np.logical_not(mask)]), axs[0, 1],\n",
    "                [\"Same speaker\", \"Different speakers\"], \n",
    "                \"Normalized histogram of similarity\\nvalues between utterances\")\n",
    "plot_similarity_matrix(spk_sim_matrix, labels_a, labels_b, axs[1, 0],\n",
    "                       \"Cross-similarity between speakers\\n(speaker_id-utterances_group)\")\n",
    "plot_histograms((spk_sim_matrix[mask], spk_sim_matrix[np.logical_not(mask)]), axs[1, 1],\n",
    "                [\"Same speaker\", \"Different speakers\"], \n",
    "                \"Normalized histogram of similarity\\nvalues between speakers\")\n",
    "plt.show()"
   ]
  }
 ],
 "metadata": {
  "kernelspec": {
   "display_name": "gpu_environment",
   "language": "python",
   "name": "python3"
  },
  "language_info": {
   "codemirror_mode": {
    "name": "ipython",
    "version": 3
   },
   "file_extension": ".py",
   "mimetype": "text/x-python",
   "name": "python",
   "nbconvert_exporter": "python",
   "pygments_lexer": "ipython3",
   "version": "3.10.16"
  }
 },
 "nbformat": 4,
 "nbformat_minor": 2
}
