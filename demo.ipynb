{
 "cells": [
  {
   "cell_type": "code",
   "execution_count": 1,
   "metadata": {},
   "outputs": [],
   "source": [
    "from embed_v2 import EmbedV2\n",
    "from embed import Embed\n",
    "from data_preprocessing import *\n",
    "import torchaudio"
   ]
  },
  {
   "cell_type": "code",
   "execution_count": 10,
   "metadata": {},
   "outputs": [],
   "source": [
    "wav_path = \"D:\\CODING\\SpeechEncoder\\data\\LibriSpeech/train-clean-100/60/121082/60-121082-0005.flac\"\n",
    "waveform, sample_rate = torchaudio.load(wav_path)\n",
    "wav = preprocess_audio(waveform, 16000)"
   ]
  },
  {
   "cell_type": "code",
   "execution_count": 12,
   "metadata": {},
   "outputs": [
    {
     "data": {
      "text/plain": [
       "174720"
      ]
     },
     "execution_count": 12,
     "metadata": {},
     "output_type": "execute_result"
    }
   ],
   "source": [
    "len(wav)"
   ]
  },
  {
   "cell_type": "code",
   "execution_count": 3,
   "metadata": {},
   "outputs": [
    {
     "name": "stderr",
     "output_type": "stream",
     "text": [
      "c:\\Users\\anike\\anaconda3\\envs\\gpu_environment\\lib\\site-packages\\torch\\nn\\modules\\transformer.py:385: UserWarning: enable_nested_tensor is True, but self.use_nested_tensor is False because encoder_layer.self_attn.batch_first was not True(use batch_first for better inference performance)\n",
      "  warnings.warn(\n"
     ]
    }
   ],
   "source": [
    "from speech_encoder_v2 import SpeechEncoderV2\n",
    "\n",
    "device = torch.device(\"cuda\" if torch.cuda.is_available() else \"cpu\")\n",
    "\n",
    "encoder = SpeechEncoderV2(device,device)\n",
    "checkpoints = torch.load(\"models\\speech_encoder_transformer\\encoder(0.096).pt\") \n",
    "encoder.load_state_dict(checkpoints['model_state'])\n",
    "embedderV2 = EmbedV2(encoder)\n",
    "embedder = Embed(encoder)"
   ]
  },
  {
   "cell_type": "code",
   "execution_count": 4,
   "metadata": {},
   "outputs": [],
   "source": [
    "from params import *\n",
    "\n",
    "wav_slices, mel_slices = embedderV2.calculate_partial_slice(len(wav), partials_n_frames, 0.75, 0.5)\n",
    "wav_slices1, mel_slices1 = embedder.compute_partial_slices(len(wav), partials_n_frames, 0.75, 0.5)"
   ]
  },
  {
   "cell_type": "code",
   "execution_count": 7,
   "metadata": {},
   "outputs": [
    {
     "data": {
      "text/plain": [
       "[slice(np.int64(0), np.int64(160), None),\n",
       " slice(np.int64(80), np.int64(240), None),\n",
       " slice(np.int64(160), np.int64(320), None),\n",
       " slice(np.int64(240), np.int64(400), None),\n",
       " slice(np.int64(320), np.int64(480), None),\n",
       " slice(np.int64(400), np.int64(560), None),\n",
       " slice(np.int64(480), np.int64(640), None),\n",
       " slice(np.int64(560), np.int64(720), None),\n",
       " slice(np.int64(640), np.int64(800), None)]"
      ]
     },
     "execution_count": 7,
     "metadata": {},
     "output_type": "execute_result"
    }
   ],
   "source": [
    "mel_slices1"
   ]
  },
  {
   "cell_type": "code",
   "execution_count": 8,
   "metadata": {},
   "outputs": [
    {
     "data": {
      "text/plain": [
       "[slice(0, 160, None),\n",
       " slice(159, 319, None),\n",
       " slice(318, 478, None),\n",
       " slice(477, 637, None),\n",
       " slice(636, 771, None)]"
      ]
     },
     "execution_count": 8,
     "metadata": {},
     "output_type": "execute_result"
    }
   ],
   "source": [
    "mel_slices"
   ]
  }
 ],
 "metadata": {
  "kernelspec": {
   "display_name": "gpu_environment",
   "language": "python",
   "name": "python3"
  },
  "language_info": {
   "codemirror_mode": {
    "name": "ipython",
    "version": 3
   },
   "file_extension": ".py",
   "mimetype": "text/x-python",
   "name": "python",
   "nbconvert_exporter": "python",
   "pygments_lexer": "ipython3",
   "version": "3.10.16"
  }
 },
 "nbformat": 4,
 "nbformat_minor": 2
}
