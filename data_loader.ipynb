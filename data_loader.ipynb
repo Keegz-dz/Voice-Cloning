{
 "cells": [
  {
   "cell_type": "code",
   "execution_count": null,
   "metadata": {},
   "outputs": [],
   "source": [
    "from speech_encoder_v2 import SpeechEncoderV2\n",
    "from params import *\n",
    "from pathlib import Path\n",
    "import torch\n",
    "from tqdm import tqdm\n",
    "import os\n",
    "from data_preprocessing import *\n",
    "from data_scripts import *\n",
    "\n",
    "params = {\n",
    "    \"run_id\": \"speech_encoder_1\",\n",
    "    \"clean_data_root\": \"datasets/LibriSpeech/train-clean-100\",\n",
    "    \"umap_every\": 500,\n",
    "    \"save_every\": 500,\n",
    "    \"backup_every\": 5000,\n",
    "    \"vis_every\": 100,\n",
    "    \"force_restart\": False,\n",
    "    \"models_dir\": Path(\"models\"),\n",
    "}\n",
    "\n",
    "# Device setup\n",
    "device = torch.device(\"cuda\" if torch.cuda.is_available() else \"cpu\")\n",
    "loss_device = torch.device(\"cpu\")\n",
    "\n",
    "def sync(device: torch.device):\n",
    "    if device.type == \"cuda\":\n",
    "        torch.cuda.synchronize(device)"
   ]
  },
  {
   "cell_type": "markdown",
   "metadata": {},
   "source": [
    "### Data Preparation & Model Initialization"
   ]
  },
  {
   "cell_type": "code",
   "execution_count": 2,
   "metadata": {},
   "outputs": [
    {
     "ename": "FileNotFoundError",
     "evalue": "Raw dataset directory not found: /Users/keegz_dsouza/Documents/Code/FINAL/Voice-Cloning/data\\LibriSpeech/train-clean-100",
     "output_type": "error",
     "traceback": [
      "\u001b[0;31m---------------------------------------------------------------------------\u001b[0m",
      "\u001b[0;31mFileNotFoundError\u001b[0m                         Traceback (most recent call last)",
      "Cell \u001b[0;32mIn[2], line 2\u001b[0m\n\u001b[1;32m      1\u001b[0m \u001b[38;5;66;03m# Preprocess data using your pipeline\u001b[39;00m\n\u001b[0;32m----> 2\u001b[0m \u001b[43mpreprocess\u001b[49m\u001b[43m(\u001b[49m\n\u001b[1;32m      3\u001b[0m \u001b[43m    \u001b[49m\u001b[43mraw_data_root\u001b[49m\u001b[38;5;241;43m=\u001b[39;49m\u001b[43mparams\u001b[49m\u001b[43m[\u001b[49m\u001b[38;5;124;43m\"\u001b[39;49m\u001b[38;5;124;43mclean_data_root\u001b[39;49m\u001b[38;5;124;43m\"\u001b[39;49m\u001b[43m]\u001b[49m\u001b[43m,\u001b[49m\n\u001b[1;32m      4\u001b[0m \u001b[43m    \u001b[49m\u001b[43mprocessed_data_root\u001b[49m\u001b[38;5;241;43m=\u001b[39;49m\u001b[38;5;124;43m\"\u001b[39;49m\u001b[38;5;124;43mdata/processed_data\u001b[39;49m\u001b[38;5;124;43m\"\u001b[39;49m\u001b[43m,\u001b[49m\n\u001b[1;32m      5\u001b[0m \u001b[43m    \u001b[49m\u001b[43mskip_existing\u001b[49m\u001b[38;5;241;43m=\u001b[39;49m\u001b[38;5;129;43;01mnot\u001b[39;49;00m\u001b[43m \u001b[49m\u001b[43mparams\u001b[49m\u001b[43m[\u001b[49m\u001b[38;5;124;43m\"\u001b[39;49m\u001b[38;5;124;43mforce_restart\u001b[39;49m\u001b[38;5;124;43m\"\u001b[39;49m\u001b[43m]\u001b[49m\n\u001b[1;32m      6\u001b[0m \u001b[43m)\u001b[49m\n\u001b[1;32m      8\u001b[0m \u001b[38;5;66;03m# Load data using your interface\u001b[39;00m\n\u001b[1;32m      9\u001b[0m dataset, loader \u001b[38;5;241m=\u001b[39m load_data(\n\u001b[1;32m     10\u001b[0m     processed_root\u001b[38;5;241m=\u001b[39m\u001b[38;5;124m\"\u001b[39m\u001b[38;5;124mdata/processed_data\u001b[39m\u001b[38;5;124m\"\u001b[39m,\n\u001b[1;32m     11\u001b[0m     speakers_per_batch\u001b[38;5;241m=\u001b[39mspeakers_per_batch,\n\u001b[1;32m     12\u001b[0m     utterances_per_speaker\u001b[38;5;241m=\u001b[39mutterances_per_speaker,\n\u001b[1;32m     13\u001b[0m     num_workers\u001b[38;5;241m=\u001b[39m\u001b[38;5;241m4\u001b[39m\n\u001b[1;32m     14\u001b[0m )\n",
      "File \u001b[0;32m~/Documents/Code/FINAL/Voice-Cloning/data_preprocessing/data_preprocess.py:29\u001b[0m, in \u001b[0;36mpreprocess\u001b[0;34m(raw_data_root, processed_data_root, max_files_per_speaker, skip_existing)\u001b[0m\n\u001b[1;32m     26\u001b[0m processed_root \u001b[38;5;241m=\u001b[39m Path(processed_data_root)\u001b[38;5;241m.\u001b[39mresolve()\n\u001b[1;32m     28\u001b[0m \u001b[38;5;28;01mif\u001b[39;00m \u001b[38;5;129;01mnot\u001b[39;00m raw_root\u001b[38;5;241m.\u001b[39mexists():\n\u001b[0;32m---> 29\u001b[0m     \u001b[38;5;28;01mraise\u001b[39;00m \u001b[38;5;167;01mFileNotFoundError\u001b[39;00m(\u001b[38;5;124mf\u001b[39m\u001b[38;5;124m\"\u001b[39m\u001b[38;5;124mRaw dataset directory not found: \u001b[39m\u001b[38;5;132;01m{\u001b[39;00mraw_root\u001b[38;5;132;01m}\u001b[39;00m\u001b[38;5;124m\"\u001b[39m)\n\u001b[1;32m     31\u001b[0m processed_root\u001b[38;5;241m.\u001b[39mmkdir(parents\u001b[38;5;241m=\u001b[39m\u001b[38;5;28;01mTrue\u001b[39;00m, exist_ok\u001b[38;5;241m=\u001b[39m\u001b[38;5;28;01mTrue\u001b[39;00m)\n\u001b[1;32m     33\u001b[0m \u001b[38;5;28mprint\u001b[39m(\u001b[38;5;124m\"\u001b[39m\u001b[38;5;124mStarting preprocessing...\u001b[39m\u001b[38;5;124m\"\u001b[39m)\n",
      "\u001b[0;31mFileNotFoundError\u001b[0m: Raw dataset directory not found: /Users/keegz_dsouza/Documents/Code/FINAL/Voice-Cloning/data\\LibriSpeech/train-clean-100"
     ]
    }
   ],
   "source": [
    "# Preprocess data using your pipeline\n",
    "preprocess(\n",
    "    raw_data_root=params[\"clean_data_root\"],\n",
    "    processed_data_root=\"data/processed_data\",\n",
    "    skip_existing=not params[\"force_restart\"]\n",
    ")\n",
    "\n",
    "# Load data using your interface\n",
    "dataset, loader = load_data(\n",
    "    processed_root=\"data/processed_data\",\n",
    "    speakers_per_batch=speakers_per_batch,\n",
    "    utterances_per_speaker=utterances_per_speaker,\n",
    "    num_workers=4\n",
    ")"
   ]
  },
  {
   "cell_type": "markdown",
   "metadata": {},
   "source": [
    "### Training Execution"
   ]
  },
  {
   "cell_type": "code",
   "execution_count": null,
   "metadata": {},
   "outputs": [],
   "source": [
    "init_step = 1\n",
    "pbar = tqdm(enumerate(loader, init_step), desc=\"Training\")\n",
    "\n",
    "for step, speaker_batch in pbar:\n",
    "    # Forward pass\n",
    "    inputs = torch.from_numpy(speaker_batch.data).float().to(device)\n",
    "    sync(device)\n",
    "    embeds = model(inputs)\n",
    "    sync(device)\n",
    "    \n",
    "    # Loss calculation\n",
    "    embeds_loss = embeds.view((speakers_per_batch, utterances_per_speaker, -1)).to(loss_device)\n",
    "    loss, eer = model.loss(embeds_loss)\n",
    "    sync(loss_device)\n",
    "\n",
    "    # Backward pass\n",
    "    model.zero_grad()\n",
    "    loss.backward()\n",
    "    model.do_gradient_ops()\n",
    "    optimizer.step()\n",
    "\n",
    "    # Progress updates\n",
    "    pbar.set_postfix(loss=loss.item(), eer=eer)\n",
    "\n",
    "    # Model checkpointing\n",
    "    if step % params['save_every'] == 0:\n",
    "        torch.save({\n",
    "            \"step\": step + 1,\n",
    "            \"model_state\": model.state_dict(),\n",
    "            \"optimizer_state\": optimizer.state_dict(),\n",
    "        }, state_fpath)\n",
    "\n",
    "    if step % params['backup_every'] == 0:\n",
    "        backup_fpath = model_dir / f\"encoder_{step:06d}.bak\"\n",
    "        torch.save({\n",
    "            \"step\": step + 1,\n",
    "            \"model_state\": model.state_dict(),\n",
    "            \"optimizer_state\": optimizer.state_dict(),\n",
    "        }, backup_fpath)"
   ]
  }
 ],
 "metadata": {
  "kernelspec": {
   "display_name": ".venv",
   "language": "python",
   "name": "python3"
  },
  "language_info": {
   "codemirror_mode": {
    "name": "ipython",
    "version": 3
   },
   "file_extension": ".py",
   "mimetype": "text/x-python",
   "name": "python",
   "nbconvert_exporter": "python",
   "pygments_lexer": "ipython3",
   "version": "3.10.16"
  }
 },
 "nbformat": 4,
 "nbformat_minor": 2
}
