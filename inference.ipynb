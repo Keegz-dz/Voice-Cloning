{
 "cells": [
  {
   "cell_type": "markdown",
   "metadata": {},
   "source": [
    "# **Testing the accuracy and MOS of the Encoder model on various datasets.**"
   ]
  },
  {
   "cell_type": "code",
   "execution_count": 1,
   "metadata": {},
   "outputs": [],
   "source": [
    "from speech_encoder_v2 import SpeechEncoderV2\n",
    "import torch\n",
    "import torchaudio"
   ]
  },
  {
   "cell_type": "code",
   "execution_count": 1,
   "metadata": {},
   "outputs": [
    {
     "name": "stdout",
     "output_type": "stream",
     "text": [
      "Starting preprocessing...\n",
      "  Raw data source:      D:\\CODING\\Voice-Cloning\\datasets\\LibriSpeech\\test-other\n",
      "  Processed data target: D:\\CODING\\Voice-Cloning\\datasets\\processed_data\n",
      "Found 33 speaker directories.\n",
      "Scanning for existing data...\n",
      "-> Skipping 0 previously processed speakers.\n",
      "Total files to process: 2939\n"
     ]
    },
    {
     "name": "stderr",
     "output_type": "stream",
     "text": [
      "Processing files:   3%|▎         | 90/2939 [00:03<00:49, 57.81file/s] "
     ]
    },
    {
     "name": "stdout",
     "output_type": "stream",
     "text": [
      "Skipping D:\\CODING\\Voice-Cloning\\datasets\\LibriSpeech\\test-other\\3005\\163389\\3005-163389-0007.flac (spectrogram too short).\n",
      "Skipping D:\\CODING\\Voice-Cloning\\datasets\\LibriSpeech\\test-other\\3538\\142836\\3538-142836-0008.flac (spectrogram too short).\n"
     ]
    },
    {
     "name": "stderr",
     "output_type": "stream",
     "text": [
      "                                                                      \r"
     ]
    },
    {
     "name": "stdout",
     "output_type": "stream",
     "text": [
      "Skipping D:\\CODING\\Voice-Cloning\\datasets\\LibriSpeech\\test-other\\1688\\142285\\1688-142285-0014.flac (spectrogram too short).\n"
     ]
    },
    {
     "name": "stderr",
     "output_type": "stream",
     "text": [
      "Processing files:   5%|▌         | 160/2939 [00:04<00:38, 71.51file/s]"
     ]
    },
    {
     "name": "stdout",
     "output_type": "stream",
     "text": [
      "Skipping D:\\CODING\\Voice-Cloning\\datasets\\LibriSpeech\\test-other\\3528\\168669\\3528-168669-0002.flac (spectrogram too short).\n",
      "Skipping D:\\CODING\\Voice-Cloning\\datasets\\LibriSpeech\\test-other\\2414\\128291\\2414-128291-0015.flac (spectrogram too short).\n"
     ]
    },
    {
     "name": "stderr",
     "output_type": "stream",
     "text": [
      "Processing files:   7%|▋         | 210/2939 [00:05<00:50, 53.79file/s]"
     ]
    },
    {
     "name": "stdout",
     "output_type": "stream",
     "text": [
      "Skipping D:\\CODING\\Voice-Cloning\\datasets\\LibriSpeech\\test-other\\2414\\128291\\2414-128291-0020.flac (spectrogram too short).\n"
     ]
    },
    {
     "name": "stderr",
     "output_type": "stream",
     "text": [
      "Processing files:   8%|▊         | 229/2939 [00:06<00:44, 61.07file/s]"
     ]
    },
    {
     "name": "stdout",
     "output_type": "stream",
     "text": [
      "Skipping D:\\CODING\\Voice-Cloning\\datasets\\LibriSpeech\\test-other\\3528\\168669\\3528-168669-0009.flac (spectrogram too short).\n"
     ]
    },
    {
     "name": "stderr",
     "output_type": "stream",
     "text": [
      "                                                                      "
     ]
    },
    {
     "name": "stdout",
     "output_type": "stream",
     "text": [
      "Skipping D:\\CODING\\Voice-Cloning\\datasets\\LibriSpeech\\test-other\\1688\\142285\\1688-142285-0028.flac (spectrogram too short).\n",
      "Skipping D:\\CODING\\Voice-Cloning\\datasets\\LibriSpeech\\test-other\\3528\\168669\\3528-168669-0013.flac (spectrogram too short).\n",
      "Skipping D:\\CODING\\Voice-Cloning\\datasets\\LibriSpeech\\test-other\\2033\\164915\\2033-164915-0000.flac (spectrogram too short).\n",
      "Skipping D:\\CODING\\Voice-Cloning\\datasets\\LibriSpeech\\test-other\\3528\\168669\\3528-168669-0014.flac (spectrogram too short).\n"
     ]
    },
    {
     "name": "stderr",
     "output_type": "stream",
     "text": [
      "Processing files:  10%|▉         | 288/2939 [00:06<00:38, 68.35file/s]"
     ]
    },
    {
     "name": "stdout",
     "output_type": "stream",
     "text": [
      "Skipping D:\\CODING\\Voice-Cloning\\datasets\\LibriSpeech\\test-other\\3538\\142836\\3538-142836-0023.flac (spectrogram too short).\n",
      "Skipping D:\\CODING\\Voice-Cloning\\datasets\\LibriSpeech\\test-other\\3331\\159605\\3331-159605-0025.flac (spectrogram too short).\n",
      "Skipping D:\\CODING\\Voice-Cloning\\datasets\\LibriSpeech\\test-other\\3528\\168669\\3528-168669-0015.flac (spectrogram too short).\n"
     ]
    },
    {
     "name": "stderr",
     "output_type": "stream",
     "text": [
      "Processing files:  11%|█         | 311/2939 [00:06<00:32, 80.29file/s]"
     ]
    },
    {
     "name": "stdout",
     "output_type": "stream",
     "text": [
      "Skipping D:\\CODING\\Voice-Cloning\\datasets\\LibriSpeech\\test-other\\3005\\163390\\3005-163390-0012.flac (spectrogram too short).\n",
      "Skipping D:\\CODING\\Voice-Cloning\\datasets\\LibriSpeech\\test-other\\3528\\168669\\3528-168669-0017.flac (spectrogram too short).\n"
     ]
    },
    {
     "name": "stderr",
     "output_type": "stream",
     "text": [
      "Processing files:  12%|█▏        | 366/2939 [00:07<00:36, 69.73file/s]"
     ]
    },
    {
     "name": "stdout",
     "output_type": "stream",
     "text": [
      "Skipping D:\\CODING\\Voice-Cloning\\datasets\\LibriSpeech\\test-other\\3005\\163390\\3005-163390-0017.flac (spectrogram too short).\n",
      "Skipping D:\\CODING\\Voice-Cloning\\datasets\\LibriSpeech\\test-other\\1688\\142285\\1688-142285-0037.flac (spectrogram too short).\n",
      "Skipping D:\\CODING\\Voice-Cloning\\datasets\\LibriSpeech\\test-other\\1998\\29454\\1998-29454-0009.flac (spectrogram too short).\n"
     ]
    },
    {
     "name": "stderr",
     "output_type": "stream",
     "text": [
      "Processing files:  13%|█▎        | 387/2939 [00:08<00:35, 71.00file/s]"
     ]
    },
    {
     "name": "stdout",
     "output_type": "stream",
     "text": [
      "Skipping D:\\CODING\\Voice-Cloning\\datasets\\LibriSpeech\\test-other\\3331\\159605\\3331-159605-0034.flac (spectrogram too short).\n",
      "Skipping D:\\CODING\\Voice-Cloning\\datasets\\LibriSpeech\\test-other\\3528\\168669\\3528-168669-0026.flac (spectrogram too short).\n"
     ]
    },
    {
     "name": "stderr",
     "output_type": "stream",
     "text": [
      "Processing files:  14%|█▍        | 425/2939 [00:08<00:29, 84.69file/s]"
     ]
    },
    {
     "name": "stdout",
     "output_type": "stream",
     "text": [
      "Skipping D:\\CODING\\Voice-Cloning\\datasets\\LibriSpeech\\test-other\\3528\\168669\\3528-168669-0029.flac (spectrogram too short).\n"
     ]
    },
    {
     "name": "stderr",
     "output_type": "stream",
     "text": [
      "Processing files:  15%|█▌        | 451/2939 [00:08<00:28, 88.48file/s]"
     ]
    },
    {
     "name": "stdout",
     "output_type": "stream",
     "text": [
      "Skipping D:\\CODING\\Voice-Cloning\\datasets\\LibriSpeech\\test-other\\1688\\142285\\1688-142285-0047.flac (spectrogram too short).\n"
     ]
    },
    {
     "name": "stderr",
     "output_type": "stream",
     "text": [
      "Processing files:  16%|█▌        | 473/2939 [00:09<00:42, 58.21file/s]"
     ]
    },
    {
     "name": "stdout",
     "output_type": "stream",
     "text": [
      "Skipping D:\\CODING\\Voice-Cloning\\datasets\\LibriSpeech\\test-other\\3528\\168669\\3528-168669-0033.flac (spectrogram too short).\n",
      "Skipping D:\\CODING\\Voice-Cloning\\datasets\\LibriSpeech\\test-other\\3528\\168669\\3528-168669-0034.flac (spectrogram too short).\n"
     ]
    },
    {
     "name": "stderr",
     "output_type": "stream",
     "text": [
      "Processing files:  17%|█▋        | 514/2939 [00:09<00:30, 79.09file/s]"
     ]
    },
    {
     "name": "stdout",
     "output_type": "stream",
     "text": [
      "Skipping D:\\CODING\\Voice-Cloning\\datasets\\LibriSpeech\\test-other\\3528\\168669\\3528-168669-0037.flac (spectrogram too short).\n",
      "Skipping D:\\CODING\\Voice-Cloning\\datasets\\LibriSpeech\\test-other\\3080\\5040\\3080-5040-0017.flac (spectrogram too short).\n"
     ]
    },
    {
     "name": "stderr",
     "output_type": "stream",
     "text": [
      "Processing files:  19%|█▉        | 554/2939 [00:10<00:24, 97.30file/s]"
     ]
    },
    {
     "name": "stdout",
     "output_type": "stream",
     "text": [
      "Skipping D:\\CODING\\Voice-Cloning\\datasets\\LibriSpeech\\test-other\\1998\\29454\\1998-29454-0030.flac (spectrogram too short).\n",
      "Skipping D:\\CODING\\Voice-Cloning\\datasets\\LibriSpeech\\test-other\\3528\\168669\\3528-168669-0041.flac (spectrogram too short).\n"
     ]
    },
    {
     "name": "stderr",
     "output_type": "stream",
     "text": [
      "Processing files:  20%|██        | 595/2939 [00:10<00:31, 74.11file/s]"
     ]
    },
    {
     "name": "stdout",
     "output_type": "stream",
     "text": [
      "Skipping D:\\CODING\\Voice-Cloning\\datasets\\LibriSpeech\\test-other\\3331\\159609\\3331-159609-0008.flac (spectrogram too short).\n"
     ]
    },
    {
     "name": "stderr",
     "output_type": "stream",
     "text": [
      "Processing files:  23%|██▎       | 669/2939 [00:11<00:40, 56.02file/s]"
     ]
    },
    {
     "name": "stdout",
     "output_type": "stream",
     "text": [
      "Skipping D:\\CODING\\Voice-Cloning\\datasets\\LibriSpeech\\test-other\\3528\\168669\\3528-168669-0053.flac (spectrogram too short).\n"
     ]
    },
    {
     "name": "stderr",
     "output_type": "stream",
     "text": [
      "Processing files:  24%|██▍       | 716/2939 [00:12<00:33, 66.23file/s]"
     ]
    },
    {
     "name": "stdout",
     "output_type": "stream",
     "text": [
      "Skipping D:\\CODING\\Voice-Cloning\\datasets\\LibriSpeech\\test-other\\3764\\168670\\3764-168670-0001.flac (spectrogram too short).\n"
     ]
    },
    {
     "name": "stderr",
     "output_type": "stream",
     "text": [
      "Processing files:  25%|██▌       | 748/2939 [00:12<00:24, 90.19file/s]"
     ]
    },
    {
     "name": "stdout",
     "output_type": "stream",
     "text": [
      "Skipping D:\\CODING\\Voice-Cloning\\datasets\\LibriSpeech\\test-other\\1998\\29455\\1998-29455-0007.flac (spectrogram too short).\n"
     ]
    },
    {
     "name": "stderr",
     "output_type": "stream",
     "text": [
      "Processing files:  26%|██▋       | 774/2939 [00:13<00:26, 82.00file/s]"
     ]
    },
    {
     "name": "stdout",
     "output_type": "stream",
     "text": [
      "Skipping D:\\CODING\\Voice-Cloning\\datasets\\LibriSpeech\\test-other\\3528\\168669\\3528-168669-0062.flac (spectrogram too short).\n",
      "Skipping D:\\CODING\\Voice-Cloning\\datasets\\LibriSpeech\\test-other\\3528\\168669\\3528-168669-0063.flac (spectrogram too short).\n"
     ]
    },
    {
     "name": "stderr",
     "output_type": "stream",
     "text": [
      "                                                                      \r"
     ]
    },
    {
     "name": "stdout",
     "output_type": "stream",
     "text": [
      "Skipping D:\\CODING\\Voice-Cloning\\datasets\\LibriSpeech\\test-other\\367\\130732\\367-130732-0010.flac (spectrogram too short).\n",
      "Skipping D:\\CODING\\Voice-Cloning\\datasets\\LibriSpeech\\test-other\\3764\\168670\\3764-168670-0012.flac (spectrogram too short).\n"
     ]
    },
    {
     "name": "stderr",
     "output_type": "stream",
     "text": [
      "Processing files:  28%|██▊       | 814/2939 [00:13<00:24, 86.60file/s]"
     ]
    },
    {
     "name": "stdout",
     "output_type": "stream",
     "text": [
      "Skipping D:\\CODING\\Voice-Cloning\\datasets\\LibriSpeech\\test-other\\3528\\168669\\3528-168669-0065.flac (spectrogram too short).\n"
     ]
    },
    {
     "name": "stderr",
     "output_type": "stream",
     "text": [
      "Processing files:  30%|██▉       | 870/2939 [00:14<00:32, 63.85file/s]"
     ]
    },
    {
     "name": "stdout",
     "output_type": "stream",
     "text": [
      "Skipping D:\\CODING\\Voice-Cloning\\datasets\\LibriSpeech\\test-other\\1998\\29455\\1998-29455-0021.flac (spectrogram too short).\n",
      "Skipping D:\\CODING\\Voice-Cloning\\datasets\\LibriSpeech\\test-other\\3528\\168669\\3528-168669-0070.flac (spectrogram too short).\n"
     ]
    },
    {
     "name": "stderr",
     "output_type": "stream",
     "text": [
      "Processing files:  31%|███▏      | 922/2939 [00:15<00:28, 71.19file/s]"
     ]
    },
    {
     "name": "stdout",
     "output_type": "stream",
     "text": [
      "Skipping D:\\CODING\\Voice-Cloning\\datasets\\LibriSpeech\\test-other\\2414\\159411\\2414-159411-0023.flac (spectrogram too short).\n"
     ]
    },
    {
     "name": "stderr",
     "output_type": "stream",
     "text": [
      "Processing files:  32%|███▏      | 937/2939 [00:15<00:21, 92.21file/s]"
     ]
    },
    {
     "name": "stdout",
     "output_type": "stream",
     "text": [
      "Skipping D:\\CODING\\Voice-Cloning\\datasets\\LibriSpeech\\test-other\\3528\\168669\\3528-168669-0075.flac (spectrogram too short).\n",
      "Skipping D:\\CODING\\Voice-Cloning\\datasets\\LibriSpeech\\test-other\\367\\130732\\367-130732-0021.flac (spectrogram too short).\n"
     ]
    },
    {
     "name": "stderr",
     "output_type": "stream",
     "text": [
      "Processing files:  33%|███▎      | 976/2939 [00:15<00:23, 81.85file/s]"
     ]
    },
    {
     "name": "stdout",
     "output_type": "stream",
     "text": [
      "Skipping D:\\CODING\\Voice-Cloning\\datasets\\LibriSpeech\\test-other\\1998\\29455\\1998-29455-0034.flac (spectrogram too short).\n",
      "Skipping D:\\CODING\\Voice-Cloning\\datasets\\LibriSpeech\\test-other\\3764\\168670\\3764-168670-0034.flac (spectrogram too short).\n"
     ]
    },
    {
     "name": "stderr",
     "output_type": "stream",
     "text": [
      "Processing files:  35%|███▍      | 1024/2939 [00:16<00:28, 67.99file/s]"
     ]
    },
    {
     "name": "stdout",
     "output_type": "stream",
     "text": [
      "Skipping D:\\CODING\\Voice-Cloning\\datasets\\LibriSpeech\\test-other\\3997\\180294\\3997-180294-0020.flac (spectrogram too short).\n"
     ]
    },
    {
     "name": "stderr",
     "output_type": "stream",
     "text": [
      "Processing files:  36%|███▌      | 1058/2939 [00:16<00:26, 72.04file/s]"
     ]
    },
    {
     "name": "stdout",
     "output_type": "stream",
     "text": [
      "Skipping D:\\CODING\\Voice-Cloning\\datasets\\LibriSpeech\\test-other\\4852\\28311\\4852-28311-0000.flac (spectrogram too short).\n"
     ]
    },
    {
     "name": "stderr",
     "output_type": "stream",
     "text": [
      "Processing files:  38%|███▊      | 1112/2939 [00:17<00:20, 89.72file/s]"
     ]
    },
    {
     "name": "stdout",
     "output_type": "stream",
     "text": [
      "Skipping D:\\CODING\\Voice-Cloning\\datasets\\LibriSpeech\\test-other\\4350\\10919\\4350-10919-0011.flac (spectrogram too short).\n",
      "Skipping D:\\CODING\\Voice-Cloning\\datasets\\LibriSpeech\\test-other\\3528\\168669\\3528-168669-0091.flac (spectrogram too short).\n"
     ]
    },
    {
     "name": "stderr",
     "output_type": "stream",
     "text": [
      "Processing files:  39%|███▉      | 1149/2939 [00:17<00:22, 79.54file/s]"
     ]
    },
    {
     "name": "stdout",
     "output_type": "stream",
     "text": [
      "Skipping D:\\CODING\\Voice-Cloning\\datasets\\LibriSpeech\\test-other\\3528\\168669\\3528-168669-0094.flac (spectrogram too short).\n"
     ]
    },
    {
     "name": "stderr",
     "output_type": "stream",
     "text": [
      "Processing files:  42%|████▏     | 1246/2939 [00:19<00:19, 85.02file/s]"
     ]
    },
    {
     "name": "stdout",
     "output_type": "stream",
     "text": [
      "Skipping D:\\CODING\\Voice-Cloning\\datasets\\LibriSpeech\\test-other\\3528\\168669\\3528-168669-0103.flac (spectrogram too short).\n",
      "Skipping D:\\CODING\\Voice-Cloning\\datasets\\LibriSpeech\\test-other\\3528\\168669\\3528-168669-0104.flac (spectrogram too short).\n"
     ]
    },
    {
     "name": "stderr",
     "output_type": "stream",
     "text": [
      "Processing files:  44%|████▍     | 1299/2939 [00:19<00:23, 70.38file/s]"
     ]
    },
    {
     "name": "stdout",
     "output_type": "stream",
     "text": [
      "Skipping D:\\CODING\\Voice-Cloning\\datasets\\LibriSpeech\\test-other\\3528\\168669\\3528-168669-0109.flac (spectrogram too short).\n",
      "Skipping D:\\CODING\\Voice-Cloning\\datasets\\LibriSpeech\\test-other\\3528\\168669\\3528-168669-0110.flac (spectrogram too short).\n",
      "Skipping D:\\CODING\\Voice-Cloning\\datasets\\LibriSpeech\\test-other\\4350\\9170\\4350-9170-0001.flac (spectrogram too short).\n"
     ]
    },
    {
     "name": "stderr",
     "output_type": "stream",
     "text": [
      "Processing files:  45%|████▌     | 1326/2939 [00:20<00:25, 63.25file/s]"
     ]
    },
    {
     "name": "stdout",
     "output_type": "stream",
     "text": [
      "Skipping D:\\CODING\\Voice-Cloning\\datasets\\LibriSpeech\\test-other\\3528\\168669\\3528-168669-0112.flac (spectrogram too short).\n"
     ]
    },
    {
     "name": "stderr",
     "output_type": "stream",
     "text": [
      "Processing files:  47%|████▋     | 1395/2939 [00:21<00:18, 84.76file/s]"
     ]
    },
    {
     "name": "stdout",
     "output_type": "stream",
     "text": [
      "Skipping D:\\CODING\\Voice-Cloning\\datasets\\LibriSpeech\\test-other\\4350\\9170\\4350-9170-0010.flac (spectrogram too short).\n",
      "Skipping D:\\CODING\\Voice-Cloning\\datasets\\LibriSpeech\\test-other\\4852\\28312\\4852-28312-0009.flac (spectrogram too short).\n"
     ]
    },
    {
     "name": "stderr",
     "output_type": "stream",
     "text": [
      "Processing files:  48%|████▊     | 1420/2939 [00:21<00:24, 60.94file/s]"
     ]
    },
    {
     "name": "stdout",
     "output_type": "stream",
     "text": [
      "Skipping D:\\CODING\\Voice-Cloning\\datasets\\LibriSpeech\\test-other\\4852\\28312\\4852-28312-0011.flac (spectrogram too short).\n",
      "Skipping D:\\CODING\\Voice-Cloning\\datasets\\LibriSpeech\\test-other\\3997\\180297\\3997-180297-0029.flac (spectrogram too short).\n",
      "Skipping D:\\CODING\\Voice-Cloning\\datasets\\LibriSpeech\\test-other\\3764\\168671\\3764-168671-0024.flac (spectrogram too short).\n"
     ]
    },
    {
     "name": "stderr",
     "output_type": "stream",
     "text": [
      "                                                                       \r"
     ]
    },
    {
     "name": "stdout",
     "output_type": "stream",
     "text": [
      "Skipping D:\\CODING\\Voice-Cloning\\datasets\\LibriSpeech\\test-other\\3528\\168669\\3528-168669-0130.flac (spectrogram too short).\n",
      "Skipping D:\\CODING\\Voice-Cloning\\datasets\\LibriSpeech\\test-other\\3764\\168671\\3764-168671-0033.flac (spectrogram too short).\n"
     ]
    },
    {
     "name": "stderr",
     "output_type": "stream",
     "text": [
      "Processing files:  51%|█████▏    | 1511/2939 [00:22<00:20, 70.14file/s]"
     ]
    },
    {
     "name": "stdout",
     "output_type": "stream",
     "text": [
      "Skipping D:\\CODING\\Voice-Cloning\\datasets\\LibriSpeech\\test-other\\4350\\9170\\4350-9170-0022.flac (spectrogram too short).\n"
     ]
    },
    {
     "name": "stderr",
     "output_type": "stream",
     "text": [
      "                                                                       \r"
     ]
    },
    {
     "name": "stdout",
     "output_type": "stream",
     "text": [
      "Skipping D:\\CODING\\Voice-Cloning\\datasets\\LibriSpeech\\test-other\\533\\131556\\533-131556-0015.flac (spectrogram too short).\n"
     ]
    },
    {
     "name": "stderr",
     "output_type": "stream",
     "text": [
      "Processing files:  53%|█████▎    | 1558/2939 [00:23<00:23, 57.56file/s]"
     ]
    },
    {
     "name": "stdout",
     "output_type": "stream",
     "text": [
      "Skipping D:\\CODING\\Voice-Cloning\\datasets\\LibriSpeech\\test-other\\533\\131556\\533-131556-0016.flac (spectrogram too short).\n"
     ]
    },
    {
     "name": "stderr",
     "output_type": "stream",
     "text": [
      "Processing files:  55%|█████▍    | 1609/2939 [00:24<00:20, 65.59file/s]"
     ]
    },
    {
     "name": "stdout",
     "output_type": "stream",
     "text": [
      "Skipping D:\\CODING\\Voice-Cloning\\datasets\\LibriSpeech\\test-other\\533\\131556\\533-131556-0020.flac (spectrogram too short).\n"
     ]
    },
    {
     "name": "stderr",
     "output_type": "stream",
     "text": [
      "Processing files:  57%|█████▋    | 1665/2939 [00:24<00:24, 51.82file/s]"
     ]
    },
    {
     "name": "stdout",
     "output_type": "stream",
     "text": [
      "Skipping D:\\CODING\\Voice-Cloning\\datasets\\LibriSpeech\\test-other\\3764\\168671\\3764-168671-0054.flac (spectrogram too short).\n"
     ]
    },
    {
     "name": "stderr",
     "output_type": "stream",
     "text": [
      "Processing files:  59%|█████▉    | 1736/2939 [00:26<00:15, 78.96file/s]"
     ]
    },
    {
     "name": "stdout",
     "output_type": "stream",
     "text": [
      "Skipping D:\\CODING\\Voice-Cloning\\datasets\\LibriSpeech\\test-other\\5442\\41169\\5442-41169-0002.flac (spectrogram too short).\n"
     ]
    },
    {
     "name": "stderr",
     "output_type": "stream",
     "text": [
      "Processing files:  60%|█████▉    | 1760/2939 [00:26<00:22, 52.91file/s]"
     ]
    },
    {
     "name": "stdout",
     "output_type": "stream",
     "text": [
      "Skipping D:\\CODING\\Voice-Cloning\\datasets\\LibriSpeech\\test-other\\6070\\63485\\6070-63485-0012.flac (spectrogram too short).\n",
      "Skipping D:\\CODING\\Voice-Cloning\\datasets\\LibriSpeech\\test-other\\4294\\9934\\4294-9934-0016.flac (spectrogram too short).\n"
     ]
    },
    {
     "name": "stderr",
     "output_type": "stream",
     "text": [
      "Processing files:  61%|██████    | 1799/2939 [00:26<00:14, 76.22file/s]"
     ]
    },
    {
     "name": "stdout",
     "output_type": "stream",
     "text": [
      "Skipping D:\\CODING\\Voice-Cloning\\datasets\\LibriSpeech\\test-other\\6070\\63485\\6070-63485-0015.flac (spectrogram too short).\n"
     ]
    },
    {
     "name": "stderr",
     "output_type": "stream",
     "text": [
      "Processing files:  63%|██████▎   | 1839/2939 [00:27<00:15, 69.44file/s] "
     ]
    },
    {
     "name": "stdout",
     "output_type": "stream",
     "text": [
      "Skipping D:\\CODING\\Voice-Cloning\\datasets\\LibriSpeech\\test-other\\6128\\63240\\6128-63240-0014.flac (spectrogram too short).\n"
     ]
    },
    {
     "name": "stderr",
     "output_type": "stream",
     "text": [
      "Processing files:  63%|██████▎   | 1864/2939 [00:27<00:17, 62.88file/s]"
     ]
    },
    {
     "name": "stdout",
     "output_type": "stream",
     "text": [
      "Skipping D:\\CODING\\Voice-Cloning\\datasets\\LibriSpeech\\test-other\\533\\131564\\533-131564-0000.flac (spectrogram too short).\n"
     ]
    },
    {
     "name": "stderr",
     "output_type": "stream",
     "text": [
      "Processing files:  67%|██████▋   | 1963/2939 [00:29<00:18, 51.87file/s]"
     ]
    },
    {
     "name": "stdout",
     "output_type": "stream",
     "text": [
      "Skipping D:\\CODING\\Voice-Cloning\\datasets\\LibriSpeech\\test-other\\533\\131564\\533-131564-0010.flac (spectrogram too short).\n"
     ]
    },
    {
     "name": "stderr",
     "output_type": "stream",
     "text": [
      "Processing files:  71%|███████   | 2085/2939 [00:30<00:14, 60.30file/s]"
     ]
    },
    {
     "name": "stdout",
     "output_type": "stream",
     "text": [
      "Skipping D:\\CODING\\Voice-Cloning\\datasets\\LibriSpeech\\test-other\\533\\131564\\533-131564-0022.flac (spectrogram too short).\n"
     ]
    },
    {
     "name": "stderr",
     "output_type": "stream",
     "text": [
      "Processing files:  71%|███████▏  | 2100/2939 [00:31<00:12, 65.53file/s]"
     ]
    },
    {
     "name": "stdout",
     "output_type": "stream",
     "text": [
      "Skipping D:\\CODING\\Voice-Cloning\\datasets\\LibriSpeech\\test-other\\6432\\63722\\6432-63722-0042.flac (spectrogram too short).\n"
     ]
    },
    {
     "name": "stderr",
     "output_type": "stream",
     "text": [
      "Processing files:  74%|███████▎  | 2165/2939 [00:31<00:15, 51.28file/s]"
     ]
    },
    {
     "name": "stdout",
     "output_type": "stream",
     "text": [
      "Skipping D:\\CODING\\Voice-Cloning\\datasets\\LibriSpeech\\test-other\\8131\\117016\\8131-117016-0000.flac (spectrogram too short).\n"
     ]
    },
    {
     "name": "stderr",
     "output_type": "stream",
     "text": [
      "Processing files:  79%|███████▉  | 2326/2939 [00:33<00:07, 84.73file/s]"
     ]
    },
    {
     "name": "stdout",
     "output_type": "stream",
     "text": [
      "Skipping D:\\CODING\\Voice-Cloning\\datasets\\LibriSpeech\\test-other\\8188\\269288\\8188-269288-0012.flac (spectrogram too short).\n",
      "Skipping D:\\CODING\\Voice-Cloning\\datasets\\LibriSpeech\\test-other\\7902\\96592\\7902-96592-0001.flac (spectrogram too short).\n"
     ]
    },
    {
     "name": "stderr",
     "output_type": "stream",
     "text": [
      "                                                                       \r"
     ]
    },
    {
     "name": "stdout",
     "output_type": "stream",
     "text": [
      "Skipping D:\\CODING\\Voice-Cloning\\datasets\\LibriSpeech\\test-other\\8188\\269288\\8188-269288-0023.flac (spectrogram too short).\n"
     ]
    },
    {
     "name": "stderr",
     "output_type": "stream",
     "text": [
      "Processing files:  83%|████████▎ | 2450/2939 [00:35<00:06, 72.56file/s]"
     ]
    },
    {
     "name": "stdout",
     "output_type": "stream",
     "text": [
      "Skipping D:\\CODING\\Voice-Cloning\\datasets\\LibriSpeech\\test-other\\8188\\269288\\8188-269288-0025.flac (spectrogram too short).\n"
     ]
    },
    {
     "name": "stderr",
     "output_type": "stream",
     "text": [
      "Processing files:  85%|████████▍ | 2488/2939 [00:35<00:05, 82.81file/s]"
     ]
    },
    {
     "name": "stdout",
     "output_type": "stream",
     "text": [
      "Skipping D:\\CODING\\Voice-Cloning\\datasets\\LibriSpeech\\test-other\\8188\\269288\\8188-269288-0028.flac (spectrogram too short).\n",
      "Skipping D:\\CODING\\Voice-Cloning\\datasets\\LibriSpeech\\test-other\\7902\\96592\\7902-96592-0016.flac (spectrogram too short).\n"
     ]
    },
    {
     "name": "stderr",
     "output_type": "stream",
     "text": [
      "Processing files:  86%|████████▌ | 2527/2939 [00:36<00:06, 63.49file/s]"
     ]
    },
    {
     "name": "stdout",
     "output_type": "stream",
     "text": [
      "Skipping D:\\CODING\\Voice-Cloning\\datasets\\LibriSpeech\\test-other\\7902\\96592\\7902-96592-0020.flac (spectrogram too short).\n",
      "Skipping D:\\CODING\\Voice-Cloning\\datasets\\LibriSpeech\\test-other\\7902\\96592\\7902-96592-0021.flac (spectrogram too short).\n"
     ]
    },
    {
     "name": "stderr",
     "output_type": "stream",
     "text": [
      "Processing files:  87%|████████▋ | 2562/2939 [00:36<00:06, 55.50file/s]"
     ]
    },
    {
     "name": "stdout",
     "output_type": "stream",
     "text": [
      "Skipping D:\\CODING\\Voice-Cloning\\datasets\\LibriSpeech\\test-other\\8188\\269288\\8188-269288-0036.flac (spectrogram too short).\n"
     ]
    },
    {
     "name": "stderr",
     "output_type": "stream",
     "text": [
      "Processing files:  89%|████████▉ | 2615/2939 [00:37<00:03, 88.72file/s]"
     ]
    },
    {
     "name": "stdout",
     "output_type": "stream",
     "text": [
      "Skipping D:\\CODING\\Voice-Cloning\\datasets\\LibriSpeech\\test-other\\8188\\269288\\8188-269288-0042.flac (spectrogram too short).\n"
     ]
    },
    {
     "name": "stderr",
     "output_type": "stream",
     "text": [
      "Processing files:  90%|████████▉ | 2635/2939 [00:37<00:03, 84.90file/s]"
     ]
    },
    {
     "name": "stdout",
     "output_type": "stream",
     "text": [
      "Skipping D:\\CODING\\Voice-Cloning\\datasets\\LibriSpeech\\test-other\\6432\\63723\\6432-63723-0042.flac (spectrogram too short).\n",
      "Skipping D:\\CODING\\Voice-Cloning\\datasets\\LibriSpeech\\test-other\\8188\\269288\\8188-269288-0045.flac (spectrogram too short).\n"
     ]
    },
    {
     "name": "stderr",
     "output_type": "stream",
     "text": [
      "Processing files:  90%|█████████ | 2651/2939 [00:37<00:02, 114.23file/s]"
     ]
    },
    {
     "name": "stdout",
     "output_type": "stream",
     "text": [
      "Skipping D:\\CODING\\Voice-Cloning\\datasets\\LibriSpeech\\test-other\\8188\\269288\\8188-269288-0047.flac (spectrogram too short).\n"
     ]
    },
    {
     "name": "stderr",
     "output_type": "stream",
     "text": [
      "Processing files:  91%|█████████ | 2681/2939 [00:38<00:02, 91.89file/s] "
     ]
    },
    {
     "name": "stdout",
     "output_type": "stream",
     "text": [
      "Skipping D:\\CODING\\Voice-Cloning\\datasets\\LibriSpeech\\test-other\\8188\\269288\\8188-269288-0050.flac (spectrogram too short).\n",
      "Skipping D:\\CODING\\Voice-Cloning\\datasets\\LibriSpeech\\test-other\\8280\\266249\\8280-266249-0032.flac (spectrogram too short).\n"
     ]
    },
    {
     "name": "stderr",
     "output_type": "stream",
     "text": [
      "                                                                       \r"
     ]
    },
    {
     "name": "stdout",
     "output_type": "stream",
     "text": [
      "Skipping D:\\CODING\\Voice-Cloning\\datasets\\LibriSpeech\\test-other\\7902\\96592\\7902-96592-0046.flac (spectrogram too short).\n",
      "Skipping D:\\CODING\\Voice-Cloning\\datasets\\LibriSpeech\\test-other\\8188\\269290\\8188-269290-0000.flac (spectrogram too short).\n",
      "Skipping D:\\CODING\\Voice-Cloning\\datasets\\LibriSpeech\\test-other\\8131\\117017\\8131-117017-0005.flac (spectrogram too short).\n"
     ]
    },
    {
     "name": "stderr",
     "output_type": "stream",
     "text": [
      "Processing files:  94%|█████████▍| 2764/2939 [00:39<00:02, 77.73file/s]"
     ]
    },
    {
     "name": "stdout",
     "output_type": "stream",
     "text": [
      "Skipping D:\\CODING\\Voice-Cloning\\datasets\\LibriSpeech\\test-other\\8188\\269290\\8188-269290-0002.flac (spectrogram too short).\n"
     ]
    },
    {
     "name": "stderr",
     "output_type": "stream",
     "text": [
      "Processing files:  95%|█████████▌| 2794/2939 [00:39<00:01, 85.70file/s]"
     ]
    },
    {
     "name": "stdout",
     "output_type": "stream",
     "text": [
      "Skipping D:\\CODING\\Voice-Cloning\\datasets\\LibriSpeech\\test-other\\8188\\269290\\8188-269290-0007.flac (spectrogram too short).\n"
     ]
    },
    {
     "name": "stderr",
     "output_type": "stream",
     "text": [
      "Processing files:  96%|█████████▌| 2826/2939 [00:39<00:01, 77.69file/s]"
     ]
    },
    {
     "name": "stdout",
     "output_type": "stream",
     "text": [
      "Skipping D:\\CODING\\Voice-Cloning\\datasets\\LibriSpeech\\test-other\\7902\\96594\\7902-96594-0006.flac (spectrogram too short).\n"
     ]
    },
    {
     "name": "stderr",
     "output_type": "stream",
     "text": [
      "Processing files:  97%|█████████▋| 2862/2939 [00:40<00:00, 95.68file/s]"
     ]
    },
    {
     "name": "stdout",
     "output_type": "stream",
     "text": [
      "Skipping D:\\CODING\\Voice-Cloning\\datasets\\LibriSpeech\\test-other\\7902\\96594\\7902-96594-0012.flac (spectrogram too short).\n",
      "Skipping D:\\CODING\\Voice-Cloning\\datasets\\LibriSpeech\\test-other\\7902\\96594\\7902-96594-0013.flac (spectrogram too short).\n"
     ]
    },
    {
     "name": "stderr",
     "output_type": "stream",
     "text": [
      "Processing files:  98%|█████████▊| 2892/2939 [00:40<00:00, 92.22file/s]"
     ]
    },
    {
     "name": "stdout",
     "output_type": "stream",
     "text": [
      "Skipping D:\\CODING\\Voice-Cloning\\datasets\\LibriSpeech\\test-other\\7902\\96594\\7902-96594-0016.flac (spectrogram too short).\n"
     ]
    },
    {
     "name": "stderr",
     "output_type": "stream",
     "text": [
      "Processing files:  99%|█████████▉| 2912/2939 [00:40<00:00, 88.82file/s]"
     ]
    },
    {
     "name": "stdout",
     "output_type": "stream",
     "text": [
      "Skipping D:\\CODING\\Voice-Cloning\\datasets\\LibriSpeech\\test-other\\8188\\269290\\8188-269290-0028.flac (spectrogram too short).\n"
     ]
    },
    {
     "name": "stderr",
     "output_type": "stream",
     "text": [
      "Processing files: 100%|█████████▉| 2930/2939 [00:41<00:00, 86.93file/s]"
     ]
    },
    {
     "name": "stdout",
     "output_type": "stream",
     "text": [
      "Skipping D:\\CODING\\Voice-Cloning\\datasets\\LibriSpeech\\test-other\\8188\\269290\\8188-269290-0031.flac (spectrogram too short).\n",
      "Skipping D:\\CODING\\Voice-Cloning\\datasets\\LibriSpeech\\test-other\\7902\\96594\\7902-96594-0025.flac (spectrogram too short).\n"
     ]
    },
    {
     "name": "stderr",
     "output_type": "stream",
     "text": [
      "Processing files: 2967file [00:41, 82.11file/s]                        "
     ]
    },
    {
     "name": "stdout",
     "output_type": "stream",
     "text": [
      "Skipping D:\\CODING\\Voice-Cloning\\datasets\\LibriSpeech\\test-other\\8131\\117029\\8131-117029-0005.flac (spectrogram too short).\n"
     ]
    },
    {
     "name": "stderr",
     "output_type": "stream",
     "text": [
      "Processing files: 2988file [00:41, 96.81file/s]"
     ]
    },
    {
     "name": "stdout",
     "output_type": "stream",
     "text": [
      "Skipping D:\\CODING\\Voice-Cloning\\datasets\\LibriSpeech\\test-other\\8131\\117029\\8131-117029-0009.flac (spectrogram too short).\n",
      "Skipping D:\\CODING\\Voice-Cloning\\datasets\\LibriSpeech\\test-other\\8188\\269290\\8188-269290-0042.flac (spectrogram too short).\n",
      "Skipping D:\\CODING\\Voice-Cloning\\datasets\\LibriSpeech\\test-other\\8188\\269290\\8188-269290-0043.flac (spectrogram too short).\n"
     ]
    },
    {
     "name": "stderr",
     "output_type": "stream",
     "text": [
      "Processing files: 3009file [00:41, 75.55file/s]"
     ]
    },
    {
     "name": "stdout",
     "output_type": "stream",
     "text": [
      "Skipping D:\\CODING\\Voice-Cloning\\datasets\\LibriSpeech\\test-other\\8188\\269290\\8188-269290-0046.flac (spectrogram too short).\n",
      "Skipping D:\\CODING\\Voice-Cloning\\datasets\\LibriSpeech\\test-other\\8131\\117029\\8131-117029-0016.flac (spectrogram too short).\n"
     ]
    },
    {
     "name": "stderr",
     "output_type": "stream",
     "text": [
      "Processing files: 3046file [00:42, 82.68file/s]"
     ]
    },
    {
     "name": "stdout",
     "output_type": "stream",
     "text": [
      "Skipping D:\\CODING\\Voice-Cloning\\datasets\\LibriSpeech\\test-other\\8188\\269290\\8188-269290-0055.flac (spectrogram too short).\n",
      "Skipping D:\\CODING\\Voice-Cloning\\datasets\\LibriSpeech\\test-other\\8188\\269290\\8188-269290-0057.flac (spectrogram too short).\n",
      "Skipping D:\\CODING\\Voice-Cloning\\datasets\\LibriSpeech\\test-other\\7902\\96595\\7902-96595-0023.flac (spectrogram too short).\n",
      "Skipping D:\\CODING\\Voice-Cloning\\datasets\\LibriSpeech\\test-other\\7902\\96595\\7902-96595-0024.flac (spectrogram too short).\n"
     ]
    },
    {
     "name": "stderr",
     "output_type": "stream",
     "text": [
      "Processing files: 3054file [00:42, 71.67file/s]"
     ]
    },
    {
     "name": "stdout",
     "output_type": "stream",
     "text": [
      "Preprocessing complete.\n",
      "Total processed files: 2824\n"
     ]
    },
    {
     "name": "stderr",
     "output_type": "stream",
     "text": [
      "\n"
     ]
    }
   ],
   "source": [
    "from data_preprocessing import *\n",
    "\n",
    "preprocess(\"datasets\\LibriSpeech/test-other\", \"datasets/processed_data\")"
   ]
  },
  {
   "cell_type": "code",
   "execution_count": 3,
   "metadata": {},
   "outputs": [],
   "source": [
    "from data_scripts import *\n",
    "\n",
    "dataset, loader = load_data(\"datasets/processed_data\",40, 10, 1)"
   ]
  },
  {
   "cell_type": "code",
   "execution_count": 5,
   "metadata": {},
   "outputs": [
    {
     "data": {
      "text/plain": [
       "device(type='cuda')"
      ]
     },
     "execution_count": 5,
     "metadata": {},
     "output_type": "execute_result"
    }
   ],
   "source": [
    "device = torch.device(\"cuda\" if torch.cuda.is_available() else \"cpu\")\n",
    "device"
   ]
  },
  {
   "cell_type": "code",
   "execution_count": 6,
   "metadata": {},
   "outputs": [
    {
     "name": "stderr",
     "output_type": "stream",
     "text": [
      "c:\\Users\\anike\\anaconda3\\envs\\gpu_environment\\lib\\site-packages\\torch\\nn\\modules\\transformer.py:385: UserWarning: enable_nested_tensor is True, but self.use_nested_tensor is False because encoder_layer.self_attn.batch_first was not True(use batch_first for better inference performance)\n",
      "  warnings.warn(\n"
     ]
    },
    {
     "data": {
      "text/plain": [
       "SpeechEncoderV2(\n",
       "  (transformer): TransformerEncoder(\n",
       "    (layers): ModuleList(\n",
       "      (0-2): 3 x TransformerEncoderLayer(\n",
       "        (self_attn): MultiheadAttention(\n",
       "          (out_proj): NonDynamicallyQuantizableLinear(in_features=40, out_features=40, bias=True)\n",
       "        )\n",
       "        (linear1): Linear(in_features=40, out_features=2048, bias=True)\n",
       "        (dropout): Dropout(p=0.1, inplace=False)\n",
       "        (linear2): Linear(in_features=2048, out_features=40, bias=True)\n",
       "        (norm1): LayerNorm((40,), eps=1e-05, elementwise_affine=True)\n",
       "        (norm2): LayerNorm((40,), eps=1e-05, elementwise_affine=True)\n",
       "        (dropout1): Dropout(p=0.1, inplace=False)\n",
       "        (dropout2): Dropout(p=0.1, inplace=False)\n",
       "      )\n",
       "    )\n",
       "    (norm): LayerNorm((40,), eps=1e-05, elementwise_affine=True)\n",
       "  )\n",
       "  (linear): Linear(in_features=40, out_features=256, bias=True)\n",
       "  (relu): ReLU()\n",
       "  (loss_fn): CrossEntropyLoss()\n",
       ")"
      ]
     },
     "execution_count": 6,
     "metadata": {},
     "output_type": "execute_result"
    }
   ],
   "source": [
    "device = torch.device(\"cuda\" if torch.cuda.is_available() else \"cpu\")\n",
    "encoder = SpeechEncoderV2(device,device)\n",
    "checkpoints = torch.load(\"models\\speech_encoder_transformer\\encoder(0.096).pt\")\n",
    "encoder.load_state_dict(checkpoints['model_state'])\n",
    "encoder.eval()"
   ]
  },
  {
   "cell_type": "code",
   "execution_count": 14,
   "metadata": {},
   "outputs": [
    {
     "name": "stderr",
     "output_type": "stream",
     "text": [
      "Testing:   0%|          | 0/250000000 [00:03<?, ?step/s]\n"
     ]
    }
   ],
   "source": [
    "from tqdm import tqdm  # Import tqdm for the progress bar\n",
    "import tensorboard \n",
    "\n",
    "# Initialize the progress bar\n",
    "init_step = 1\n",
    "total_steps = len(loader)  # Assuming `loader` has a defined length\n",
    "progress_bar = tqdm(enumerate(loader, init_step), total=total_steps, desc=\"Testing\", unit=\"step\")\n",
    "\n",
    "for step, speaker_batch in progress_bar:\n",
    "    break\n",
    "    # Move the batch to the device\n",
    "    speaker_batch = torch.from_numpy(speaker_batch.data).to(device)\n",
    "    "
   ]
  }
 ],
 "metadata": {
  "kernelspec": {
   "display_name": "gpu_environment",
   "language": "python",
   "name": "python3"
  },
  "language_info": {
   "codemirror_mode": {
    "name": "ipython",
    "version": 3
   },
   "file_extension": ".py",
   "mimetype": "text/x-python",
   "name": "python",
   "nbconvert_exporter": "python",
   "pygments_lexer": "ipython3",
   "version": "3.10.16"
  }
 },
 "nbformat": 4,
 "nbformat_minor": 2
}
