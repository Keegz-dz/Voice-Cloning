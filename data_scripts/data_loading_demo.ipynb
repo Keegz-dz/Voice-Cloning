{
 "cells": [
  {
   "cell_type": "markdown",
   "id": "a4627c9f",
   "metadata": {},
   "source": [
    "# Data Loading Demo"
   ]
  },
  {
   "cell_type": "code",
   "execution_count": 2,
   "id": "d7348c46",
   "metadata": {},
   "outputs": [
    {
     "name": "stdout",
     "output_type": "stream",
     "text": [
      "Starting preprocessing...\n",
      "  Raw data source:      /Users/keegz_dsouza/Documents/Code/Audio Synthesis/Speech-Encoder/datasets/LibriSpeech/train-clean-100\n",
      "  Processed data target: /Users/keegz_dsouza/Documents/Code/Audio Synthesis/Speech-Encoder/data/processed_data\n",
      "Found 251 total speaker directories.\n",
      "Scanning for existing data to determine processing scope...\n"
     ]
    },
    {
     "name": "stderr",
     "output_type": "stream",
     "text": [
      "Scanning speakers: 100%|██████████| 251/251 [00:00<00:00, 24276.96it/s]"
     ]
    },
    {
     "name": "stdout",
     "output_type": "stream",
     "text": [
      "-> Skipping 0 previously processed speakers.\n",
      "-> Preparing to process 251 speakers.\n"
     ]
    },
    {
     "name": "stderr",
     "output_type": "stream",
     "text": [
      "\n"
     ]
    },
    {
     "name": "stdout",
     "output_type": "stream",
     "text": [
      "   Total files to process: 753\n"
     ]
    },
    {
     "name": "stderr",
     "output_type": "stream",
     "text": [
      "Processing files: 100%|██████████| 753/753 [00:25<00:00, 30.06file/s, file=5022-29405-0002..., speaker=5022]\n"
     ]
    },
    {
     "name": "stdout",
     "output_type": "stream",
     "text": [
      "Preprocessing complete.\n",
      "Type of batch: <class 'data_scripts.data_loader.SpeakerBatch'>\n",
      "Number of speakers: 2\n",
      "Data shape: (4, 160)\n",
      "Speaker 3607: Frames 162265-162425, Shape: (160,)\n",
      "Speaker 696: Frames 84301-84461, Shape: (160,)\n"
     ]
    }
   ],
   "source": [
    "from data_preprocessing.data_preprocess import preprocess\n",
    "from data_scripts.data_loading import load_data, partials_n_frames  # Added import\n",
    "\n",
    "# Preprocess data\n",
    "preprocess()\n",
    "\n",
    "# Load data\n",
    "dataset, loader = load_data(speakers_per_batch=2, utterances_per_speaker=2)\n",
    "\n",
    "# Inspect batch\n",
    "batch = next(iter(loader))\n",
    "print(\"Type of batch:\", type(batch))\n",
    "print(\"Number of speakers:\", len(batch.speakers))\n",
    "print(\"Data shape:\", batch.data.shape)\n",
    "\n",
    "for speaker in batch.speakers:\n",
    "    partials = speaker.random_partial(1, partials_n_frames)\n",
    "    _, frames, (start, end) = partials[0]\n",
    "    print(f\"Speaker {speaker.name}: Frames {start}-{end}, Shape: {frames.shape}\")"
   ]
  }
 ],
 "metadata": {
  "kernelspec": {
   "display_name": ".venv",
   "language": "python",
   "name": "python3"
  },
  "language_info": {
   "codemirror_mode": {
    "name": "ipython",
    "version": 3
   },
   "file_extension": ".py",
   "mimetype": "text/x-python",
   "name": "python",
   "nbconvert_exporter": "python",
   "pygments_lexer": "ipython3",
   "version": "3.10.16"
  }
 },
 "nbformat": 4,
 "nbformat_minor": 2
}
