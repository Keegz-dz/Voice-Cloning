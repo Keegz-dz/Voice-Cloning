{
 "cells": [
  {
   "cell_type": "markdown",
   "id": "a4627c9f",
   "metadata": {},
   "source": [
    "# Data Loading Demo"
   ]
  },
  {
   "cell_type": "code",
   "execution_count": 10,
   "id": "d7348c46",
   "metadata": {},
   "outputs": [
    {
     "name": "stdout",
     "output_type": "stream",
     "text": [
      "Starting preprocessing...\n",
      "  Raw data source:      D:\\CODING\\SpeechEncoder\\data\\LibriSpeech\\train-clean-100\n",
      "  Processed data target: D:\\CODING\\Voice-Cloning\\data_scripts\\data\\processed_data\n",
      "Found 251 total speaker directories.\n",
      "Scanning for existing data to determine processing scope...\n"
     ]
    },
    {
     "name": "stderr",
     "output_type": "stream",
     "text": [
      "Scanning speakers: 100%|██████████| 251/251 [00:00<00:00, 15214.10it/s]"
     ]
    },
    {
     "name": "stdout",
     "output_type": "stream",
     "text": [
      "-> Skipping 0 previously processed speakers.\n",
      "-> Preparing to process 251 speakers.\n"
     ]
    },
    {
     "name": "stderr",
     "output_type": "stream",
     "text": [
      "\n"
     ]
    },
    {
     "name": "stdout",
     "output_type": "stream",
     "text": [
      "   Total files to process: 753\n"
     ]
    },
    {
     "name": "stderr",
     "output_type": "stream",
     "text": [
      "Processing files: 100%|██████████| 753/753 [00:25<00:00, 29.53file/s, file=911-128684-0002..., speaker=911] \n"
     ]
    },
    {
     "name": "stdout",
     "output_type": "stream",
     "text": [
      "Preprocessing complete.\n",
      "Type of batch: <class 'data_scripts.data_loader.SpeakerBatch'>\n",
      "Number of speakers: 40\n",
      "Data shape: (400, 160)\n",
      "Speaker 1624: Frames 90331-90491, Shape: (160,)\n",
      "Speaker 839: Frames 12632-12792, Shape: (160,)\n",
      "Speaker 7402: Frames 62223-62383, Shape: (160,)\n",
      "Speaker 8098: Frames 120296-120456, Shape: (160,)\n",
      "Speaker 2817: Frames 14494-14654, Shape: (160,)\n",
      "Speaker 2952: Frames 226426-226586, Shape: (160,)\n",
      "Speaker 311: Frames 157296-157456, Shape: (160,)\n",
      "Speaker 5192: Frames 733-893, Shape: (160,)\n",
      "Speaker 6476: Frames 26209-26369, Shape: (160,)\n",
      "Speaker 39: Frames 74637-74797, Shape: (160,)\n",
      "Speaker 302: Frames 50467-50627, Shape: (160,)\n",
      "Speaker 3982: Frames 70519-70679, Shape: (160,)\n",
      "Speaker 831: Frames 112032-112192, Shape: (160,)\n",
      "Speaker 1963: Frames 27432-27592, Shape: (160,)\n",
      "Speaker 3259: Frames 70691-70851, Shape: (160,)\n",
      "Speaker 7367: Frames 43411-43571, Shape: (160,)\n",
      "Speaker 3440: Frames 25522-25682, Shape: (160,)\n",
      "Speaker 3947: Frames 99759-99919, Shape: (160,)\n",
      "Speaker 8014: Frames 8858-9018, Shape: (160,)\n",
      "Speaker 5688: Frames 87556-87716, Shape: (160,)\n",
      "Speaker 83: Frames 96202-96362, Shape: (160,)\n",
      "Speaker 6209: Frames 74206-74366, Shape: (160,)\n",
      "Speaker 441: Frames 46953-47113, Shape: (160,)\n",
      "Speaker 2159: Frames 101552-101712, Shape: (160,)\n",
      "Speaker 4362: Frames 20529-20689, Shape: (160,)\n",
      "Speaker 374: Frames 87924-88084, Shape: (160,)\n",
      "Speaker 6437: Frames 51669-51829, Shape: (160,)\n",
      "Speaker 5390: Frames 3129-3289, Shape: (160,)\n",
      "Speaker 3983: Frames 200125-200285, Shape: (160,)\n",
      "Speaker 7278: Frames 202177-202337, Shape: (160,)\n",
      "Speaker 8108: Frames 9457-9617, Shape: (160,)\n",
      "Speaker 1098: Frames 67401-67561, Shape: (160,)\n",
      "Speaker 3664: Frames 58521-58681, Shape: (160,)\n",
      "Speaker 8419: Frames 64372-64532, Shape: (160,)\n",
      "Speaker 7226: Frames 11991-12151, Shape: (160,)\n",
      "Speaker 3112: Frames 86030-86190, Shape: (160,)\n",
      "Speaker 7059: Frames 14360-14520, Shape: (160,)\n",
      "Speaker 6078: Frames 33423-33583, Shape: (160,)\n",
      "Speaker 7148: Frames 51537-51697, Shape: (160,)\n",
      "Speaker 211: Frames 64334-64494, Shape: (160,)\n"
     ]
    }
   ],
   "source": [
    "import sys\n",
    "import os\n",
    "\n",
    "sys.path.append(\"..\")\n",
    "\n",
    "from data_preprocessing import *\n",
    "from data_scripts.data_loading import *\n",
    "\n",
    "# Preprocess data\n",
    "preprocess(raw_data_root=\"D:/CODING/SpeechEncoder/data/LibriSpeech/train-clean-100\",)\n",
    "\n",
    "# Load data\n",
    "dataset, loader = load_data(speakers_per_batch=40, utterances_per_speaker=10)\n",
    "\n",
    "# Inspect batch\n",
    "batch = next(iter(loader))\n",
    "print(\"Type of batch:\", type(batch))\n",
    "print(\"Number of speakers:\", len(batch.speakers))\n",
    "print(\"Data shape:\", batch.data.shape)\n",
    "\n",
    "for speaker in batch.speakers:\n",
    "    partials = speaker.random_partial(1, partials_n_frames)\n",
    "    _, frames, (start, end) = partials[0]\n",
    "    print(f\"Speaker {speaker.name}: Frames {start}-{end}, Shape: {frames.shape}\")"
   ]
  }
 ],
 "metadata": {
  "kernelspec": {
   "display_name": "gpu_environment",
   "language": "python",
   "name": "python3"
  },
  "language_info": {
   "codemirror_mode": {
    "name": "ipython",
    "version": 3
   },
   "file_extension": ".py",
   "mimetype": "text/x-python",
   "name": "python",
   "nbconvert_exporter": "python",
   "pygments_lexer": "ipython3",
   "version": "3.10.16"
  }
 },
 "nbformat": 4,
 "nbformat_minor": 2
}
