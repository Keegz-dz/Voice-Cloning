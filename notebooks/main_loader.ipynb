{
 "cells": [
  {
   "cell_type": "code",
   "execution_count": 1,
   "id": "ddefe67d",
   "metadata": {},
   "outputs": [],
   "source": [
    "# Standard Library\n",
    "import io\n",
    "import wave\n",
    "from typing import Tuple, Union\n",
    "\n",
    "# Audio Processing\n",
    "import librosa\n",
    "import librosa.display\n",
    "import noisereduce as nr\n",
    "import pyaudio\n",
    "import sounddevice as sd\n",
    "import soundfile as sf\n",
    "import torchaudio\n",
    "\n",
    "# Numerical Computing\n",
    "import numpy as np\n",
    "import torch\n",
    "\n",
    "# Audio Effects\n",
    "from pedalboard import Pedalboard, NoiseGate, Compressor, LowShelfFilter, Gain\n",
    "\n",
    "# IPython/Jupyter (commented out as not needed in production)\n",
    "from IPython.display import Audio, display\n",
    "# import matplotlib.pyplot as plt\n",
    "# from pathlib import Path"
   ]
  },
  {
   "cell_type": "code",
   "execution_count": 33,
   "id": "761d77a0",
   "metadata": {},
   "outputs": [
    {
     "data": {
      "text/plain": [
       "'d:\\\\PERSONAL\\\\GitHub\\\\College\\\\MOTIVE'"
      ]
     },
     "execution_count": 33,
     "metadata": {},
     "output_type": "execute_result"
    }
   ],
   "source": [
    "import os\n",
    "import sys\n",
    "data_path = os.path.abspath(os.path.join(os.getcwd(), '..'))\n",
    "sys.path.append(data_path)\n",
    "data_path"
   ]
  },
  {
   "cell_type": "code",
   "execution_count": 38,
   "id": "4c6f721c",
   "metadata": {},
   "outputs": [],
   "source": [
    "input_audio_path =data_path+ r'\\data\\audio\\harvard.wav'"
   ]
  },
  {
   "cell_type": "code",
   "execution_count": 39,
   "id": "cabc758a",
   "metadata": {},
   "outputs": [],
   "source": [
    "input_audio, sr = torchaudio.load(input_audio_path)"
   ]
  },
  {
   "cell_type": "code",
   "execution_count": 45,
   "id": "9f9adb55",
   "metadata": {},
   "outputs": [
    {
     "name": "stdout",
     "output_type": "stream",
     "text": [
      "Scripts path: d:\\PERSONAL\\GitHub\\College\\MOTIVE\\scripts\n",
      "System path: ['c:\\\\Users\\\\athar\\\\anaconda3\\\\envs\\\\motive_3.10\\\\python310.zip', 'c:\\\\Users\\\\athar\\\\anaconda3\\\\envs\\\\motive_3.10\\\\DLLs', 'c:\\\\Users\\\\athar\\\\anaconda3\\\\envs\\\\motive_3.10\\\\lib', 'c:\\\\Users\\\\athar\\\\anaconda3\\\\envs\\\\motive_3.10', '', 'c:\\\\Users\\\\athar\\\\anaconda3\\\\envs\\\\motive_3.10\\\\lib\\\\site-packages', 'c:\\\\Users\\\\athar\\\\anaconda3\\\\envs\\\\motive_3.10\\\\lib\\\\site-packages\\\\win32', 'c:\\\\Users\\\\athar\\\\anaconda3\\\\envs\\\\motive_3.10\\\\lib\\\\site-packages\\\\win32\\\\lib', 'c:\\\\Users\\\\athar\\\\anaconda3\\\\envs\\\\motive_3.10\\\\lib\\\\site-packages\\\\Pythonwin', 'd:\\\\PERSONAL\\\\GitHub\\\\College\\\\MOTIVE\\\\notebooks', 'd:\\\\PERSONAL\\\\GitHub\\\\College\\\\MOTIVE\\\\notebooks', 'd:\\\\PERSONAL\\\\GitHub\\\\College\\\\MOTIVE', 'd:\\\\PERSONAL\\\\GitHub\\\\College\\\\MOTIVE', 'd:\\\\PERSONAL\\\\GitHub\\\\College', 'd:\\\\PERSONAL\\\\GitHub\\\\College', 'd:\\\\PERSONAL\\\\GitHub\\\\College\\\\MOTIVE', 'd:\\\\PERSONAL\\\\GitHub\\\\College\\\\MOTIVE\\\\scripts']\n",
      "Files in scripts_path: ['audio_pipeline.py', 'turn_predictor.py', '__init__.py', '__pycache__']\n"
     ]
    }
   ],
   "source": [
    "import sys\n",
    "scripts_path = os.path.join(data_path, 'scripts')\n",
    "if scripts_path not in sys.path:\n",
    "\tsys.path.append(scripts_path)\n",
    "\n",
    "# Debugging: Check if the path is correctly added\n",
    "print(f\"Scripts path: {scripts_path}\")\n",
    "print(f\"System path: {sys.path}\")\n",
    "\n",
    "# Debugging: Check if the module exists in the path\n",
    "import os\n",
    "print(f\"Files in scripts_path: {os.listdir(scripts_path)}\")\n",
    "\n",
    "# Import the module\n",
    "import audio_pipeline"
   ]
  },
  {
   "cell_type": "code",
   "execution_count": 47,
   "id": "3f50e268",
   "metadata": {},
   "outputs": [],
   "source": [
    "enhanced_audio, sr = audio_pipeline.enhance_audio_tensor(input_audio, sr)"
   ]
  }
 ],
 "metadata": {
  "kernelspec": {
   "display_name": "motive_3.10",
   "language": "python",
   "name": "python3"
  },
  "language_info": {
   "codemirror_mode": {
    "name": "ipython",
    "version": 3
   },
   "file_extension": ".py",
   "mimetype": "text/x-python",
   "name": "python",
   "nbconvert_exporter": "python",
   "pygments_lexer": "ipython3",
   "version": "3.10.16"
  }
 },
 "nbformat": 4,
 "nbformat_minor": 5
}
